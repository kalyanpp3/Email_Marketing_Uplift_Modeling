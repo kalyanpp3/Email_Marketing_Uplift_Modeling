{
 "cells": [
  {
   "cell_type": "code",
   "execution_count": 7,
   "metadata": {},
   "outputs": [],
   "source": [
    "import pandas as pd\n",
    "import numpy as np\n",
    "import matplotlib.pyplot as plt\n",
    "%matplotlib inline\n",
    "import seaborn as sns"
   ]
  },
  {
   "cell_type": "code",
   "execution_count": 8,
   "metadata": {},
   "outputs": [],
   "source": [
    "# load in packages\n",
    "from itertools import combinations\n",
    "\n",
    "##from test_results import valid_results, test_results, score\n",
    "import numpy as np\n",
    "import pandas as pd\n",
    "import scipy as sp\n",
    "import sklearn as sk\n",
    "import xgboost as xgb\n",
    "from imblearn.over_sampling import SMOTE\n",
    "from statsmodels.stats.power import NormalIndPower\n",
    "from statsmodels.stats.proportion import proportion_effectsize\n",
    "from sklearn.preprocessing import OneHotEncoder\n",
    "\n",
    "import matplotlib.pyplot as plt\n",
    "import seaborn as sb\n",
    "%matplotlib inline"
   ]
  },
  {
   "cell_type": "code",
   "execution_count": 65,
   "metadata": {},
   "outputs": [
    {
     "name": "stdout",
     "output_type": "stream",
     "text": [
      "   recency history_segment  history  mens  womens   zip_code  newbie channel  \\\n",
      "0       10  2) $100 - $200   142.44     1       0  Surburban       0   Phone   \n",
      "1        6  3) $200 - $350   329.08     1       1      Rural       1     Web   \n",
      "2        7  2) $100 - $200   180.65     0       1  Surburban       1     Web   \n",
      "3        9  5) $500 - $750   675.83     1       0      Rural       1     Web   \n",
      "4        2    1) $0 - $100    45.34     1       0      Urban       0     Web   \n",
      "5        6  2) $100 - $200   134.83     0       1  Surburban       0   Phone   \n",
      "6        9  3) $200 - $350   280.20     1       0  Surburban       1   Phone   \n",
      "7        9    1) $0 - $100    46.42     0       1      Urban       0   Phone   \n",
      "8        9  5) $500 - $750   675.07     1       1      Rural       1   Phone   \n",
      "9       10    1) $0 - $100    32.84     0       1      Urban       1     Web   \n",
      "\n",
      "         segment  visit  conversion  spend  \n",
      "0  Womens E-Mail      0           0    0.0  \n",
      "1      No E-Mail      0           0    0.0  \n",
      "2  Womens E-Mail      0           0    0.0  \n",
      "3    Mens E-Mail      0           0    0.0  \n",
      "4  Womens E-Mail      0           0    0.0  \n",
      "5  Womens E-Mail      1           0    0.0  \n",
      "6  Womens E-Mail      0           0    0.0  \n",
      "7  Womens E-Mail      0           0    0.0  \n",
      "8    Mens E-Mail      0           0    0.0  \n",
      "9  Womens E-Mail      0           0    0.0  \n",
      "0    54606\n",
      "1     9394\n",
      "Name: visit, dtype: int64\n"
     ]
    }
   ],
   "source": [
    "data = pd.read_csv(\"Email_marketing_campaign.csv\")\n",
    "print(data.head(10))\n",
    "\n",
    "print(data['visit'].value_counts())"
   ]
  },
  {
   "cell_type": "code",
   "execution_count": 74,
   "metadata": {},
   "outputs": [
    {
     "name": "stdout",
     "output_type": "stream",
     "text": [
      "    zip_code  visit  recency     history   mens  womens  newbie  conversion  \\\n",
      "0      Rural      0    45394  1846119.48   4254    4162    3979           0   \n",
      "1      Rural      1     9404   476292.70   1025    1074     770         107   \n",
      "2  Surburban      0   146400  5774351.04  13557   13337   12815           0   \n",
      "3  Surburban      1    20590  1145957.70   2242    2493    1670         239   \n",
      "4      Urban      0   128880  5220862.25  12203   11933   11469           0   \n",
      "5      Urban      1    18211  1029898.80   1985    2183    1441         232   \n",
      "\n",
      "      spend  \n",
      "0      0.00  \n",
      "1  11423.92  \n",
      "2      0.00  \n",
      "3  28610.93  \n",
      "4      0.00  \n",
      "5  27223.28  \n"
     ]
    }
   ],
   "source": [
    "group_zip = data.groupby([\"zip_code\",\"visit\"]).agg(np.sum).reset_index()"
   ]
  },
  {
   "cell_type": "markdown",
   "metadata": {},
   "source": [
    "## Exploratory data analysis"
   ]
  },
  {
   "cell_type": "code",
   "execution_count": 10,
   "metadata": {},
   "outputs": [
    {
     "name": "stdout",
     "output_type": "stream",
     "text": [
      "1    50.225\n",
      "0    49.775\n",
      "Name: newbie, dtype: float64\n"
     ]
    }
   ],
   "source": [
    "## How many new customers in the data\n",
    "print(data[\"newbie\"].value_counts(normalize = True) * 100)\n",
    "## About half of them are new customers and rest 50% are old customers."
   ]
  },
  {
   "cell_type": "code",
   "execution_count": 11,
   "metadata": {},
   "outputs": [
    {
     "name": "stdout",
     "output_type": "stream",
     "text": [
      "       recency   history_segment  history  mens  womens   zip_code  newbie  \\\n",
      "217         10      1) $0 - $100    88.37     0       1      Urban       0   \n",
      "267          4    3) $200 - $350   297.80     1       1      Urban       0   \n",
      "332         10      1) $0 - $100    29.99     0       1  Surburban       0   \n",
      "451          6    3) $200 - $350   265.61     0       1  Surburban       1   \n",
      "459          1    2) $100 - $200   101.99     0       1  Surburban       0   \n",
      "513          2    4) $350 - $500   378.50     0       1      Urban       0   \n",
      "521          1       7) $1,000 +  1515.82     1       1  Surburban       1   \n",
      "540         12      1) $0 - $100    36.67     0       1      Urban       0   \n",
      "567          9    3) $200 - $350   297.59     0       1  Surburban       1   \n",
      "605          5       7) $1,000 +  1079.62     1       1  Surburban       1   \n",
      "658          1      1) $0 - $100    61.08     0       1      Rural       0   \n",
      "782          8    2) $100 - $200   194.81     1       0      Urban       1   \n",
      "857          8    3) $200 - $350   287.06     0       1      Urban       0   \n",
      "858          9    2) $100 - $200   173.88     0       1  Surburban       0   \n",
      "915         12    2) $100 - $200   130.84     0       1  Surburban       0   \n",
      "1092         1  6) $750 - $1,000   792.15     1       1  Surburban       1   \n",
      "1130         4      1) $0 - $100    59.03     0       1      Urban       0   \n",
      "1219        10      1) $0 - $100    30.53     0       1      Urban       1   \n",
      "1229         6    3) $200 - $350   288.62     0       1      Urban       0   \n",
      "1248         2    3) $200 - $350   272.95     1       0      Urban       1   \n",
      "1356         1  6) $750 - $1,000   954.65     1       0  Surburban       1   \n",
      "1390         1    4) $350 - $500   358.86     0       1  Surburban       1   \n",
      "1485         4    2) $100 - $200   139.14     0       1  Surburban       1   \n",
      "1595         4    3) $200 - $350   302.72     1       1      Urban       0   \n",
      "1683         9    2) $100 - $200   111.69     0       1      Urban       1   \n",
      "1725         1    5) $500 - $750   716.38     1       1      Rural       1   \n",
      "1821         9      1) $0 - $100    40.35     0       1      Rural       1   \n",
      "1960         2      1) $0 - $100    89.26     0       1  Surburban       0   \n",
      "2211         1    5) $500 - $750   506.82     0       1  Surburban       1   \n",
      "2233         5    3) $200 - $350   301.42     1       1  Surburban       0   \n",
      "...        ...               ...      ...   ...     ...        ...     ...   \n",
      "60539        1    2) $100 - $200   185.07     1       0  Surburban       0   \n",
      "60604        2  6) $750 - $1,000   949.57     0       1      Urban       1   \n",
      "60613        9      1) $0 - $100    29.99     0       1      Urban       1   \n",
      "60639        1    3) $200 - $350   310.54     0       1  Surburban       0   \n",
      "60802        9    2) $100 - $200   127.99     1       0  Surburban       0   \n",
      "60894        2    5) $500 - $750   565.12     1       0  Surburban       1   \n",
      "60956        6    2) $100 - $200   177.84     0       1  Surburban       0   \n",
      "61281        2    2) $100 - $200   116.07     0       1      Urban       0   \n",
      "61423       10      1) $0 - $100    47.17     0       1      Urban       0   \n",
      "61441        6    3) $200 - $350   287.97     1       0  Surburban       0   \n",
      "61583        2    5) $500 - $750   601.16     1       1      Urban       1   \n",
      "61725        3    3) $200 - $350   346.88     1       1      Urban       0   \n",
      "61761        1      1) $0 - $100    60.83     1       0      Urban       0   \n",
      "61857        1    3) $200 - $350   329.58     1       0      Rural       0   \n",
      "62199        6    5) $500 - $750   625.48     1       1  Surburban       1   \n",
      "62230        2    4) $350 - $500   499.62     0       1      Rural       1   \n",
      "62252        9    3) $200 - $350   266.74     1       0      Urban       0   \n",
      "62419        6    2) $100 - $200   179.01     1       0      Urban       0   \n",
      "62503        2    3) $200 - $350   289.96     1       1      Urban       0   \n",
      "62814        4      1) $0 - $100    79.80     0       1      Rural       0   \n",
      "62962       10      1) $0 - $100    92.57     0       1      Urban       1   \n",
      "63118        3    3) $200 - $350   262.13     1       0      Urban       0   \n",
      "63181        6    2) $100 - $200   198.46     1       0  Surburban       1   \n",
      "63284        8    3) $200 - $350   321.26     1       0      Urban       0   \n",
      "63298       10    2) $100 - $200   197.87     1       0      Urban       0   \n",
      "63466        9    5) $500 - $750   536.80     1       1      Rural       1   \n",
      "63552        2  6) $750 - $1,000   980.39     1       0      Urban       1   \n",
      "63743        5    3) $200 - $350   210.12     0       1  Surburban       0   \n",
      "63876        2    3) $200 - $350   215.61     1       0      Rural       0   \n",
      "63883        1    3) $200 - $350   239.70     1       1      Urban       1   \n",
      "\n",
      "            channel        segment  visit  conversion   spend  \n",
      "217           Phone  Womens E-Mail      1           1   29.99  \n",
      "267           Phone  Womens E-Mail      1           1  264.66  \n",
      "332             Web      No E-Mail      1           1  149.28  \n",
      "451    Multichannel  Womens E-Mail      1           1   42.66  \n",
      "459             Web  Womens E-Mail      1           1   29.99  \n",
      "513             Web    Mens E-Mail      1           1   80.58  \n",
      "521    Multichannel  Womens E-Mail      1           1  499.00  \n",
      "540             Web    Mens E-Mail      1           1  195.83  \n",
      "567           Phone    Mens E-Mail      1           1  118.39  \n",
      "605             Web      No E-Mail      1           1   29.99  \n",
      "658             Web  Womens E-Mail      1           1   70.85  \n",
      "782             Web  Womens E-Mail      1           1  184.71  \n",
      "857           Phone  Womens E-Mail      1           1   29.99  \n",
      "858           Phone    Mens E-Mail      1           1   58.13  \n",
      "915             Web  Womens E-Mail      1           1   29.99  \n",
      "1092          Phone    Mens E-Mail      1           1   32.17  \n",
      "1130            Web    Mens E-Mail      1           1   62.90  \n",
      "1219          Phone  Womens E-Mail      1           1  267.17  \n",
      "1229   Multichannel    Mens E-Mail      1           1  102.84  \n",
      "1248            Web  Womens E-Mail      1           1   29.99  \n",
      "1356   Multichannel  Womens E-Mail      1           1  168.98  \n",
      "1390            Web      No E-Mail      1           1   29.99  \n",
      "1485            Web  Womens E-Mail      1           1   73.51  \n",
      "1595            Web    Mens E-Mail      1           1   29.99  \n",
      "1683          Phone  Womens E-Mail      1           1   36.16  \n",
      "1725   Multichannel    Mens E-Mail      1           1  172.74  \n",
      "1821            Web  Womens E-Mail      1           1   29.99  \n",
      "1960            Web      No E-Mail      1           1   29.99  \n",
      "2211            Web      No E-Mail      1           1  161.61  \n",
      "2233          Phone    Mens E-Mail      1           1   29.99  \n",
      "...             ...            ...    ...         ...     ...  \n",
      "60539         Phone  Womens E-Mail      1           1  101.06  \n",
      "60604  Multichannel    Mens E-Mail      1           1  221.03  \n",
      "60613           Web    Mens E-Mail      1           1  270.71  \n",
      "60639         Phone      No E-Mail      1           1   29.99  \n",
      "60802         Phone  Womens E-Mail      1           1  137.87  \n",
      "60894  Multichannel  Womens E-Mail      1           1  138.92  \n",
      "60956           Web  Womens E-Mail      1           1   89.75  \n",
      "61281           Web      No E-Mail      1           1  220.96  \n",
      "61423           Web  Womens E-Mail      1           1  210.65  \n",
      "61441           Web      No E-Mail      1           1  444.33  \n",
      "61583           Web    Mens E-Mail      1           1   89.71  \n",
      "61725         Phone    Mens E-Mail      1           1  482.31  \n",
      "61761           Web    Mens E-Mail      1           1   29.99  \n",
      "61857           Web      No E-Mail      1           1   61.03  \n",
      "62199           Web    Mens E-Mail      1           1  499.00  \n",
      "62230         Phone    Mens E-Mail      1           1   29.99  \n",
      "62252  Multichannel  Womens E-Mail      1           1  347.49  \n",
      "62419         Phone  Womens E-Mail      1           1  230.46  \n",
      "62503  Multichannel    Mens E-Mail      1           1   79.91  \n",
      "62814           Web    Mens E-Mail      1           1   29.99  \n",
      "62962           Web  Womens E-Mail      1           1   87.53  \n",
      "63118  Multichannel      No E-Mail      1           1   29.99  \n",
      "63181           Web    Mens E-Mail      1           1   36.71  \n",
      "63284  Multichannel    Mens E-Mail      1           1   32.21  \n",
      "63298           Web    Mens E-Mail      1           1  120.91  \n",
      "63466           Web      No E-Mail      1           1  117.84  \n",
      "63552         Phone      No E-Mail      1           1   90.57  \n",
      "63743         Phone  Womens E-Mail      1           1  113.44  \n",
      "63876           Web    Mens E-Mail      1           1   99.49  \n",
      "63883           Web  Womens E-Mail      1           1  154.20  \n",
      "\n",
      "[578 rows x 12 columns]\n"
     ]
    }
   ],
   "source": [
    "print(data[data[\"conversion\"] == 1])"
   ]
  },
  {
   "cell_type": "code",
   "execution_count": 12,
   "metadata": {},
   "outputs": [
    {
     "name": "stdout",
     "output_type": "stream",
     "text": [
      "Womens E-Mail    33.417187\n",
      "Mens E-Mail      33.292187\n",
      "No E-Mail        33.290625\n",
      "Name: segment, dtype: float64\n",
      "Mens E-Mail      267\n",
      "Womens E-Mail    189\n",
      "No E-Mail        122\n",
      "Name: segment, dtype: int64\n",
      "Mens E-Mail      46.193772\n",
      "Womens E-Mail    32.698962\n",
      "No E-Mail        21.107266\n",
      "Name: segment, dtype: float64\n"
     ]
    }
   ],
   "source": [
    "## Conversion percentage by mens or womens or no email\n",
    "print(data[\"segment\"].value_counts(normalize = True) * 100)\n",
    "## Equal percentage of population present in both control and treatment groups.\n",
    "print(data[data[\"conversion\"] == 1][\"segment\"].value_counts())\n",
    "print(data[data[\"conversion\"] == 1][\"segment\"].value_counts(normalize = True) * 100)\n",
    "## From the data below we can see that Mens E-Mail has more conversion rate compared to Womens  E-mail. We still need to see \n",
    "## if this is statistically significant"
   ]
  },
  {
   "cell_type": "code",
   "execution_count": 13,
   "metadata": {},
   "outputs": [
    {
     "name": "stdout",
     "output_type": "stream",
     "text": [
      "1    28734\n",
      "Name: womens, dtype: int64\n",
      "mens      28818\n",
      "womens    28734\n",
      "both       6448\n",
      "Name: purchase_history, dtype: int64\n"
     ]
    }
   ],
   "source": [
    "## Historically mens, womens and both purchase history\n",
    "print(data[data[\"mens\"] == 0][\"womens\"].value_counts())\n",
    "## Historically customers have purchased\n",
    "## Historically purchase history mens/womens/both\n",
    "def func(row):\n",
    "    if ((row[\"mens\"] ==  1) & (row[\"womens\"] ==  0)):\n",
    "        return \"mens\"\n",
    "    elif ((row[\"mens\"] ==  0) & (row[\"womens\"] ==  1)):\n",
    "        return \"womens\"\n",
    "    elif ((row[\"mens\"] ==  1) & (row[\"womens\"] ==  1)):\n",
    "        return \"both\"\n",
    "data[\"purchase_history\"] = data.apply(func, axis = 1)\n",
    "print(data[\"purchase_history\"].value_counts())"
   ]
  },
  {
   "cell_type": "code",
   "execution_count": 14,
   "metadata": {},
   "outputs": [
    {
     "name": "stdout",
     "output_type": "stream",
     "text": [
      "Surburban    44.962500\n",
      "Urban        40.095313\n",
      "Rural        14.942188\n",
      "Name: zip_code, dtype: float64\n",
      "Surburban    41.349481\n",
      "Urban        40.138408\n",
      "Rural        18.512111\n",
      "Name: zip_code, dtype: float64\n"
     ]
    }
   ],
   "source": [
    "## based on zip code what is the conversion rate \n",
    "## Population proportion\n",
    "print(data[\"zip_code\"].value_counts(normalize = True) * 100)\n",
    "print(data[data[\"conversion\"] == 1][\"zip_code\"].value_counts(normalize = True) * 100)\n",
    "## Proportion of population targeted and conversion proportion by zip_code is proportionately similar."
   ]
  },
  {
   "cell_type": "code",
   "execution_count": 15,
   "metadata": {},
   "outputs": [
    {
     "name": "stdout",
     "output_type": "stream",
     "text": [
      "Web             28217\n",
      "Phone           28021\n",
      "Multichannel     7762\n",
      "Name: channel, dtype: int64\n",
      "Web             44.089062\n",
      "Phone           43.782812\n",
      "Multichannel    12.128125\n",
      "Name: channel, dtype: float64\n",
      "Web             45.501730\n",
      "Phone           37.543253\n",
      "Multichannel    16.955017\n",
      "Name: channel, dtype: float64\n"
     ]
    }
   ],
   "source": [
    "## Proportion of conversions by channel:\n",
    "print(data[\"channel\"].value_counts())\n",
    "print(data[\"channel\"].value_counts(normalize = True) * 100)\n",
    "print(data[data[\"conversion\"] == 1][\"channel\"].value_counts(normalize = True) * 100)"
   ]
  },
  {
   "cell_type": "code",
   "execution_count": 16,
   "metadata": {},
   "outputs": [
    {
     "data": {
      "image/png": "[encoded data removed]",
      "text/plain": [
       "<Figure size 432x288 with 1 Axes>"
      ]
     },
     "metadata": {},
     "output_type": "display_data"
    },
    {
     "data": {
      "image/png": "[encoded data removed]",
      "text/plain": [
       "<Figure size 432x288 with 1 Axes>"
      ]
     },
     "metadata": {},
     "output_type": "display_data"
    },
    {
     "name": "stdout",
     "output_type": "stream",
     "text": [
      "185529.88\n",
      "67258.13\n",
      "               recency  history_segment  history   mens  womens  zip_code  \\\n",
      "segment                                                                     \n",
      "Mens E-Mail      21307            21307    21307  21307   21307     21307   \n",
      "No E-Mail        21306            21306    21306  21306   21306     21306   \n",
      "Womens E-Mail    21387            21387    21387  21387   21387     21387   \n",
      "\n",
      "               newbie  channel  visit  conversion  spend  purchase_history  \n",
      "segment                                                                     \n",
      "Mens E-Mail     21307    21307  21307       21307  21307             21307  \n",
      "No E-Mail       21306    21306  21306       21306  21306             21306  \n",
      "Womens E-Mail   21387    21387  21387       21387  21387             21387  \n",
      "         segment  recency   history  mens  womens  newbie  visit  conversion  \\\n",
      "0    Mens E-Mail     1347  86340.81   163     157     119    267         267   \n",
      "1      No E-Mail      529  38725.18    73      69      40    122         122   \n",
      "2  Womens E-Mail      937  60463.89    90     130      97    189         189   \n",
      "\n",
      "      spend  \n",
      "0  30311.69  \n",
      "1  13908.33  \n",
      "2  23038.11  \n"
     ]
    }
   ],
   "source": [
    "## Distribution of sales amount before and after campaign for converted customers\n",
    "plt.hist(data[data[\"conversion\"] == 1][\"history\"])\n",
    "plt.show()\n",
    "\n",
    "plt.hist(data[data[\"conversion\"] == 1][\"spend\"])\n",
    "plt.show()\n",
    "\n",
    "print(data[data[\"conversion\"] == 1][\"history\"].sum())\n",
    "print(data[data[\"conversion\"] == 1][\"spend\"].sum())\n",
    "\n",
    "print(data.groupby(\"segment\").count())\n",
    "print(data[data[\"conversion\"] == 1].groupby(\"segment\").agg(np.sum).reset_index())"
   ]
  },
  {
   "cell_type": "code",
   "execution_count": 17,
   "metadata": {},
   "outputs": [
    {
     "data": {
      "text/html": [
       "<div>\n",
       "<style scoped>\n",
       "    .dataframe tbody tr th:only-of-type {\n",
       "        vertical-align: middle;\n",
       "    }\n",
       "\n",
       "    .dataframe tbody tr th {\n",
       "        vertical-align: top;\n",
       "    }\n",
       "\n",
       "    .dataframe thead th {\n",
       "        text-align: right;\n",
       "    }\n",
       "</style>\n",
       "<table border=\"1\" class=\"dataframe\">\n",
       "  <thead>\n",
       "    <tr style=\"text-align: right;\">\n",
       "      <th></th>\n",
       "      <th>visit</th>\n",
       "      <th>segment</th>\n",
       "      <th>recency</th>\n",
       "      <th>history_segment</th>\n",
       "      <th>history</th>\n",
       "      <th>mens</th>\n",
       "      <th>womens</th>\n",
       "      <th>zip_code</th>\n",
       "      <th>newbie</th>\n",
       "      <th>channel</th>\n",
       "      <th>conversion</th>\n",
       "      <th>spend</th>\n",
       "      <th>purchase_history</th>\n",
       "    </tr>\n",
       "  </thead>\n",
       "  <tbody>\n",
       "    <tr>\n",
       "      <th>0</th>\n",
       "      <td>0</td>\n",
       "      <td>Mens E-Mail</td>\n",
       "      <td>17413</td>\n",
       "      <td>17413</td>\n",
       "      <td>17413</td>\n",
       "      <td>17413</td>\n",
       "      <td>17413</td>\n",
       "      <td>17413</td>\n",
       "      <td>17413</td>\n",
       "      <td>17413</td>\n",
       "      <td>17413</td>\n",
       "      <td>17413</td>\n",
       "      <td>17413</td>\n",
       "    </tr>\n",
       "    <tr>\n",
       "      <th>1</th>\n",
       "      <td>0</td>\n",
       "      <td>No E-Mail</td>\n",
       "      <td>19044</td>\n",
       "      <td>19044</td>\n",
       "      <td>19044</td>\n",
       "      <td>19044</td>\n",
       "      <td>19044</td>\n",
       "      <td>19044</td>\n",
       "      <td>19044</td>\n",
       "      <td>19044</td>\n",
       "      <td>19044</td>\n",
       "      <td>19044</td>\n",
       "      <td>19044</td>\n",
       "    </tr>\n",
       "    <tr>\n",
       "      <th>2</th>\n",
       "      <td>0</td>\n",
       "      <td>Womens E-Mail</td>\n",
       "      <td>18149</td>\n",
       "      <td>18149</td>\n",
       "      <td>18149</td>\n",
       "      <td>18149</td>\n",
       "      <td>18149</td>\n",
       "      <td>18149</td>\n",
       "      <td>18149</td>\n",
       "      <td>18149</td>\n",
       "      <td>18149</td>\n",
       "      <td>18149</td>\n",
       "      <td>18149</td>\n",
       "    </tr>\n",
       "    <tr>\n",
       "      <th>3</th>\n",
       "      <td>1</td>\n",
       "      <td>Mens E-Mail</td>\n",
       "      <td>3894</td>\n",
       "      <td>3894</td>\n",
       "      <td>3894</td>\n",
       "      <td>3894</td>\n",
       "      <td>3894</td>\n",
       "      <td>3894</td>\n",
       "      <td>3894</td>\n",
       "      <td>3894</td>\n",
       "      <td>3894</td>\n",
       "      <td>3894</td>\n",
       "      <td>3894</td>\n",
       "    </tr>\n",
       "    <tr>\n",
       "      <th>4</th>\n",
       "      <td>1</td>\n",
       "      <td>No E-Mail</td>\n",
       "      <td>2262</td>\n",
       "      <td>2262</td>\n",
       "      <td>2262</td>\n",
       "      <td>2262</td>\n",
       "      <td>2262</td>\n",
       "      <td>2262</td>\n",
       "      <td>2262</td>\n",
       "      <td>2262</td>\n",
       "      <td>2262</td>\n",
       "      <td>2262</td>\n",
       "      <td>2262</td>\n",
       "    </tr>\n",
       "    <tr>\n",
       "      <th>5</th>\n",
       "      <td>1</td>\n",
       "      <td>Womens E-Mail</td>\n",
       "      <td>3238</td>\n",
       "      <td>3238</td>\n",
       "      <td>3238</td>\n",
       "      <td>3238</td>\n",
       "      <td>3238</td>\n",
       "      <td>3238</td>\n",
       "      <td>3238</td>\n",
       "      <td>3238</td>\n",
       "      <td>3238</td>\n",
       "      <td>3238</td>\n",
       "      <td>3238</td>\n",
       "    </tr>\n",
       "  </tbody>\n",
       "</table>\n",
       "</div>"
      ],
      "text/plain": [
       "   visit        segment  recency  history_segment  history   mens  womens  \\\n",
       "0      0    Mens E-Mail    17413            17413    17413  17413   17413   \n",
       "1      0      No E-Mail    19044            19044    19044  19044   19044   \n",
       "2      0  Womens E-Mail    18149            18149    18149  18149   18149   \n",
       "3      1    Mens E-Mail     3894             3894     3894   3894    3894   \n",
       "4      1      No E-Mail     2262             2262     2262   2262    2262   \n",
       "5      1  Womens E-Mail     3238             3238     3238   3238    3238   \n",
       "\n",
       "   zip_code  newbie  channel  conversion  spend  purchase_history  \n",
       "0     17413   17413    17413       17413  17413             17413  \n",
       "1     19044   19044    19044       19044  19044             19044  \n",
       "2     18149   18149    18149       18149  18149             18149  \n",
       "3      3894    3894     3894        3894   3894              3894  \n",
       "4      2262    2262     2262        2262   2262              2262  \n",
       "5      3238    3238     3238        3238   3238              3238  "
      ]
     },
     "execution_count": 17,
     "metadata": {},
     "output_type": "execute_result"
    }
   ],
   "source": [
    "data.groupby([\"visit\",\"segment\"]).count().reset_index()"
   ]
  },
  {
   "cell_type": "code",
   "execution_count": 18,
   "metadata": {},
   "outputs": [
    {
     "name": "stdout",
     "output_type": "stream",
     "text": [
      "Mens E-Mail      3894\n",
      "Womens E-Mail    3238\n",
      "No E-Mail        2262\n",
      "Name: segment, dtype: int64\n",
      "Mens E-Mail      41.451991\n",
      "Womens E-Mail    34.468810\n",
      "No E-Mail        24.079199\n",
      "Name: segment, dtype: float64\n",
      "No E-Mail        19044\n",
      "Womens E-Mail    18149\n",
      "Mens E-Mail      17413\n",
      "Name: segment, dtype: int64\n",
      "No E-Mail        34.875288\n",
      "Womens E-Mail    33.236274\n",
      "Mens E-Mail      31.888437\n",
      "Name: segment, dtype: float64\n"
     ]
    }
   ],
   "source": [
    "print(data[data[\"visit\"] == 1][\"segment\"].value_counts())\n",
    "print(data[data[\"visit\"] == 1][\"segment\"].value_counts(normalize = True) * 100)\n",
    "print(data[data[\"visit\"] == 0][\"segment\"].value_counts())\n",
    "print(data[data[\"visit\"] == 0][\"segment\"].value_counts(normalize = True) * 100)"
   ]
  },
  {
   "cell_type": "code",
   "execution_count": 19,
   "metadata": {},
   "outputs": [
    {
     "name": "stdout",
     "output_type": "stream",
     "text": [
      "0.005726086548390125\n",
      "0.01253109306800582\n",
      "0.008837144059475383\n"
     ]
    }
   ],
   "source": [
    "## Conversion rate for each segment\n",
    "## What is the probability of an individual converting in the control group?\n",
    "prob_noemail = (data[data[\"segment\"] == \"No E-Mail\"][\"conversion\"] == 1).mean()\n",
    "print(prob_noemail)\n",
    "\n",
    "## Given that an individual was in the mens email group, what is the probability they converted?\n",
    "prob_mens = (data[data[\"segment\"] == \"Mens E-Mail\"][\"conversion\"] == 1).mean()\n",
    "print(prob_mens)\n",
    "\n",
    "\n",
    "## Given that an individual was in the womens email group, what is the probability they converted?\n",
    "prob_mens = (data[data[\"segment\"] == \"Womens E-Mail\"][\"conversion\"] == 1).mean()\n",
    "print(prob_mens)"
   ]
  },
  {
   "cell_type": "code",
   "execution_count": 20,
   "metadata": {},
   "outputs": [
    {
     "name": "stdout",
     "output_type": "stream",
     "text": [
      "0.14678125\n",
      "0.10616727682343002\n",
      "0.18275684047496127\n",
      "0.151400383410483\n"
     ]
    }
   ],
   "source": [
    "## visit rate for each segment\n",
    "## What is the probability of an individual visited regardless of the email they receive?\n",
    "print((data[\"visit\"] == 1).mean())\n",
    "\n",
    "## Given that an individual was in the no email group, what is the probability they visited?\n",
    "prob_noemail = (data[data[\"segment\"] == \"No E-Mail\"][\"visit\"] == 1).mean()\n",
    "print(prob_noemail)\n",
    "\n",
    "## Given that an individual was in the mens email group, what is the probability they visited?\n",
    "prob_mens = (data[data[\"segment\"] == \"Mens E-Mail\"][\"visit\"] == 1).mean()\n",
    "print(prob_mens)\n",
    "\n",
    "\n",
    "## Given that an individual was in the womens email group, what is the probability they visited?\n",
    "prob_mens = (data[data[\"segment\"] == \"Womens E-Mail\"][\"visit\"] == 1).mean()\n",
    "print(prob_mens)"
   ]
  },
  {
   "cell_type": "code",
   "execution_count": 21,
   "metadata": {},
   "outputs": [
    {
     "name": "stdout",
     "output_type": "stream",
     "text": [
      "21306\n",
      "38725.18000000001\n",
      "Average spending historically for each customer in control group: 1.8175715760818552\n",
      "21306\n",
      "13908.33\n",
      "Average spending of customers in control group: 0.6527893551112363\n"
     ]
    }
   ],
   "source": [
    "## How much incremental sales per customer did the no-email version of the e-mail campaign drive? \n",
    "noemail_segment_count = len(data[(data[\"segment\"] == \"No E-Mail\")])\n",
    "print(noemail_segment_count)\n",
    "total_spend_noemail_historical = np.sum(data[(data[\"segment\"] == \"No E-Mail\") & (data[\"conversion\"] == 1)][\"history\"])\n",
    "print(total_spend_noemail_historical)\n",
    "noemail_hist_per_customer = total_spend_noemail_historical/noemail_segment_count\n",
    "print(\"Average spending historically for each customer in control group:\",noemail_hist_per_customer)\n",
    "\n",
    "noemail_segment_count = len(data[(data[\"segment\"] == \"No E-Mail\")])\n",
    "print(noemail_segment_count)\n",
    "total_spend_noemail_spend = np.sum(data[(data[\"segment\"] == \"No E-Mail\") & (data[\"conversion\"] == 1)][\"spend\"])\n",
    "print(total_spend_noemail_spend)\n",
    "noemail_spend_per_customer = total_spend_noemail_spend/noemail_segment_count\n",
    "print(\"Average spending of customers in control group:\",noemail_spend_per_customer)"
   ]
  },
  {
   "cell_type": "code",
   "execution_count": 22,
   "metadata": {},
   "outputs": [
    {
     "name": "stdout",
     "output_type": "stream",
     "text": [
      "21307\n",
      "86340.81\n",
      "Average spending historically for each customer in mens email group: 4.0522274369925375\n",
      "21307\n",
      "30311.690000000002\n",
      "Average spending of customers in mens email group: 1.422616511005773\n"
     ]
    }
   ],
   "source": [
    "## How much incremental sales per customer did the mens version of the e-mail campaign drive? \n",
    "mensemail_segment_count = len(data[(data[\"segment\"] == \"Mens E-Mail\")])\n",
    "print(mensemail_segment_count)\n",
    "total_spend_mensemail_historical = np.sum(data[(data[\"segment\"] == \"Mens E-Mail\") & (data[\"conversion\"] == 1)][\"history\"])\n",
    "print(total_spend_mensemail_historical)\n",
    "mensemail_hist_per_customer = total_spend_mensemail_historical/mensemail_segment_count\n",
    "print(\"Average spending historically for each customer in mens email group:\",mensemail_hist_per_customer)\n",
    "\n",
    "mensemail_segment_count = len(data[(data[\"segment\"] == \"Mens E-Mail\")])\n",
    "print(mensemail_segment_count)\n",
    "total_spend_mensemail_spend = np.sum(data[(data[\"segment\"] == \"Mens E-Mail\") & (data[\"conversion\"] == 1)][\"spend\"])\n",
    "print(total_spend_mensemail_spend)\n",
    "mensemail_spend_per_customer = total_spend_mensemail_spend/mensemail_segment_count\n",
    "print(\"Average spending of customers in mens email group:\",mensemail_spend_per_customer)\n"
   ]
  },
  {
   "cell_type": "code",
   "execution_count": 23,
   "metadata": {},
   "outputs": [
    {
     "name": "stdout",
     "output_type": "stream",
     "text": [
      "21387\n",
      "60463.89\n",
      "Average spending historically for each customer in womens email group: 2.827132837705148\n",
      "21387\n",
      "23038.11\n",
      "Average spending for customers in womens email group: 1.0772015710478329\n"
     ]
    }
   ],
   "source": [
    "##How much incremental sales per customer did the Womens version of the e-mail campaign drive?\n",
    "womensemail_segment_count = len(data[(data[\"segment\"] == \"Womens E-Mail\")])\n",
    "print(womensemail_segment_count)\n",
    "total_spend_womensemail_historical = np.sum(data[(data[\"segment\"] == \"Womens E-Mail\") & (data[\"conversion\"] == 1)][\"history\"])\n",
    "print(total_spend_womensemail_historical)\n",
    "womensemail_hist_per_customer = total_spend_womensemail_historical/womensemail_segment_count\n",
    "print(\"Average spending historically for each customer in womens email group:\",womensemail_hist_per_customer)\n",
    "\n",
    "womensemail_segment_count = len(data[(data[\"segment\"] == \"Womens E-Mail\")])\n",
    "print(womensemail_segment_count)\n",
    "total_spend_womensemail_spend = np.sum(data[(data[\"segment\"] == \"Womens E-Mail\") & (data[\"conversion\"] == 1)][\"spend\"])\n",
    "print(total_spend_womensemail_spend)\n",
    "womensemail_spend_per_customer = total_spend_womensemail_spend/womensemail_segment_count\n",
    "print(\"Average spending for customers in womens email group:\",womensemail_spend_per_customer)"
   ]
  },
  {
   "cell_type": "code",
   "execution_count": 24,
   "metadata": {},
   "outputs": [
    {
     "name": "stdout",
     "output_type": "stream",
     "text": [
      "count    21306.000000\n",
      "mean       240.882653\n",
      "std        252.739362\n",
      "min         29.990000\n",
      "25%         65.300000\n",
      "50%        156.655000\n",
      "75%        325.167500\n",
      "max       3345.930000\n",
      "Name: history, dtype: float64\n",
      "count    21307.000000\n",
      "mean       242.835931\n",
      "std        260.355685\n",
      "min         29.990000\n",
      "25%         63.580000\n",
      "50%        157.220000\n",
      "75%        325.215000\n",
      "max       3215.970000\n",
      "Name: history, dtype: float64\n",
      "count    21387.000000\n",
      "mean       242.536633\n",
      "std        255.332880\n",
      "min         29.990000\n",
      "25%         65.040000\n",
      "50%        160.090000\n",
      "75%        326.820000\n",
      "max       3040.200000\n",
      "Name: history, dtype: float64\n"
     ]
    },
    {
     "data": {
      "image/png": "[encoded data removed]",
      "text/plain": [
       "<Figure size 432x288 with 1 Axes>"
      ]
     },
     "metadata": {},
     "output_type": "display_data"
    },
    {
     "data": {
      "image/png": "[encoded data removed]",
      "text/plain": [
       "<Figure size 432x288 with 1 Axes>"
      ]
     },
     "metadata": {},
     "output_type": "display_data"
    },
    {
     "data": {
      "image/png": "[encoded data removed]",
      "text/plain": [
       "<Figure size 432x288 with 1 Axes>"
      ]
     },
     "metadata": {},
     "output_type": "display_data"
    },
    {
     "data": {
      "image/png": "[encoded data removed]",
      "text/plain": [
       "<Figure size 432x288 with 1 Axes>"
      ]
     },
     "metadata": {},
     "output_type": "display_data"
    },
    {
     "data": {
      "image/png": "[encoded data removed]",
      "text/plain": [
       "<Figure size 432x288 with 1 Axes>"
      ]
     },
     "metadata": {},
     "output_type": "display_data"
    },
    {
     "data": {
      "image/png": "[encoded data removed]",
      "text/plain": [
       "<Figure size 432x288 with 1 Axes>"
      ]
     },
     "metadata": {},
     "output_type": "display_data"
    }
   ],
   "source": [
    "## Historical spend patterns for control and treatment groups\n",
    "print(data[data[\"segment\"] == \"No E-Mail\"][\"history\"].describe())\n",
    "print(data[data[\"segment\"] == \"Mens E-Mail\"][\"history\"].describe())\n",
    "print(data[data[\"segment\"] == \"Womens E-Mail\"][\"history\"].describe())\n",
    "\n",
    "plt.hist(data[data[\"segment\"] == \"No E-Mail\"][\"history\"])\n",
    "plt.show()\n",
    "plt.hist(data[data[\"segment\"] == \"Mens E-Mail\"][\"history\"])\n",
    "plt.show()\n",
    "plt.hist(data[data[\"segment\"] == \"Womens E-Mail\"][\"history\"])\n",
    "plt.show()\n",
    "\n",
    "plt.hist(data[data[\"segment\"] == \"No E-Mail\"][\"recency\"])\n",
    "plt.show()\n",
    "plt.hist(data[data[\"segment\"] == \"Mens E-Mail\"][\"recency\"])\n",
    "plt.show()\n",
    "plt.hist(data[data[\"segment\"] == \"Womens E-Mail\"][\"recency\"])\n",
    "plt.show()\n",
    "## So historical spending of customers in each group follows the same distribution that means\n",
    "## Customers are stratified sampled based on their historical spend patterns"
   ]
  },
  {
   "cell_type": "markdown",
   "metadata": {},
   "source": [
    "## Statistical test of significance: Test for proportions for conversion rate"
   ]
  },
  {
   "cell_type": "code",
   "execution_count": 25,
   "metadata": {},
   "outputs": [
    {
     "name": "stdout",
     "output_type": "stream",
     "text": [
      "(122, 267, 21306, 21307)\n",
      "(7.385114410925771, 7.616117502977714e-14)\n"
     ]
    }
   ],
   "source": [
    "## Comparing control with mens email treatment and testing for significance for conversion rate\n",
    "import statsmodels.api as sm\n",
    "\n",
    "convert_noemail = (data.query('segment==\"No E-Mail\"')['conversion']==1).sum()\n",
    "convert_mensemail = (data.query('segment==\"Mens E-Mail\"')['conversion']==1).sum()\n",
    "n_noemail = (data['segment']=='No E-Mail').sum()\n",
    "n_mensemail =(data['segment']=='Mens E-Mail').sum()\n",
    "\n",
    "print((convert_noemail, convert_mensemail, n_noemail, n_mensemail))\n",
    "\n",
    "z_score, p_value = sm.stats.proportions_ztest([convert_mensemail, convert_noemail], [n_mensemail, n_noemail], alternative='larger')\n",
    "print((z_score, p_value))"
   ]
  },
  {
   "cell_type": "code",
   "execution_count": 26,
   "metadata": {},
   "outputs": [
    {
     "name": "stdout",
     "output_type": "stream",
     "text": [
      "(122, 189, 21306, 21387)\n",
      "(3.77956095835785, 7.855256455334224e-05)\n"
     ]
    }
   ],
   "source": [
    "## Comparing control with womens email treatment and testing for significance for conversion rate\n",
    "import statsmodels.api as sm\n",
    "\n",
    "convert_noemail = (data.query('segment==\"No E-Mail\"')['conversion']==1).sum()\n",
    "convert_womensemail = (data.query('segment==\"Womens E-Mail\"')['conversion']==1).sum()\n",
    "n_noemail = (data['segment']=='No E-Mail').sum()\n",
    "n_womensemail =(data['segment']=='Womens E-Mail').sum()\n",
    "\n",
    "print((convert_noemail, convert_womensemail, n_noemail, n_womensemail))\n",
    "\n",
    "z_score, p_value = sm.stats.proportions_ztest([convert_womensemail, convert_noemail], [n_womensemail, n_noemail], alternative='larger')\n",
    "print((z_score, p_value))"
   ]
  },
  {
   "cell_type": "code",
   "execution_count": 27,
   "metadata": {},
   "outputs": [
    {
     "name": "stdout",
     "output_type": "stream",
     "text": [
      "(267, 189, 21307, 21387)\n",
      "(3.7125842027552878, 0.0001025768873284419)\n"
     ]
    }
   ],
   "source": [
    "## Comparing mens with womens email treatment and testing for significance for conversion rate\n",
    "import statsmodels.api as sm \n",
    "\n",
    "convert_mensemail = (data.query('segment==\"Mens E-Mail\"')['conversion']==1).sum()\n",
    "convert_womensemail = (data.query('segment==\"Womens E-Mail\"')['conversion']==1).sum()\n",
    "n_mensemail = (data['segment']=='Mens E-Mail').sum()\n",
    "n_womensemail =(data['segment']=='Womens E-Mail').sum()\n",
    "\n",
    "print((convert_mensemail, convert_womensemail, n_mensemail, n_womensemail))\n",
    "\n",
    "z_score, p_value = sm.stats.proportions_ztest([convert_mensemail, convert_womensemail], [n_mensemail, n_womensemail], alternative='larger')\n",
    "print((z_score, p_value))"
   ]
  },
  {
   "cell_type": "markdown",
   "metadata": {},
   "source": [
    "## Statistical test of significance: Test for proportions for visitor rate"
   ]
  },
  {
   "cell_type": "code",
   "execution_count": 28,
   "metadata": {},
   "outputs": [
    {
     "name": "stdout",
     "output_type": "stream",
     "text": [
      "(2262, 3894, 21306, 21307)\n",
      "(22.48604082719282, 2.8425827414011584e-112)\n"
     ]
    }
   ],
   "source": [
    "## Comparing control with mens email treatment and testing for significance for visitor rate\n",
    "import statsmodels.api as sm\n",
    "\n",
    "visit_noemail = (data.query('segment==\"No E-Mail\"')['visit']==1).sum()\n",
    "visit_mensemail = (data.query('segment==\"Mens E-Mail\"')['visit']==1).sum()\n",
    "n_noemail = (data['segment']=='No E-Mail').sum()\n",
    "n_mensemail =(data['segment']=='Mens E-Mail').sum()\n",
    "\n",
    "print((visit_noemail, visit_mensemail, n_noemail, n_mensemail))\n",
    "\n",
    "z_score, p_value = sm.stats.proportions_ztest([visit_mensemail, visit_noemail], [n_mensemail, n_noemail], alternative='larger')\n",
    "print((z_score, p_value))"
   ]
  },
  {
   "cell_type": "code",
   "execution_count": 29,
   "metadata": {},
   "outputs": [
    {
     "name": "stdout",
     "output_type": "stream",
     "text": [
      "(2262, 3238, 21306, 21387)\n",
      "(13.949180655258505, 1.5912015796674607e-44)\n"
     ]
    }
   ],
   "source": [
    "## Comparing control with womens email treatment and testing for significance for visitor rate\n",
    "import statsmodels.api as sm\n",
    "\n",
    "visit_noemail = (data.query('segment==\"No E-Mail\"')['visit']==1).sum()\n",
    "visit_womensemail = (data.query('segment==\"Womens E-Mail\"')['visit']==1).sum()\n",
    "n_noemail = (data['segment']=='No E-Mail').sum()\n",
    "n_womensemail =(data['segment']=='Womens E-Mail').sum()\n",
    "\n",
    "print((visit_noemail, visit_womensemail, n_noemail, n_womensemail))\n",
    "\n",
    "z_score, p_value = sm.stats.proportions_ztest([visit_womensemail, visit_noemail], [n_womensemail, n_noemail], alternative='larger')\n",
    "print((z_score, p_value))"
   ]
  },
  {
   "cell_type": "code",
   "execution_count": 30,
   "metadata": {},
   "outputs": [
    {
     "name": "stdout",
     "output_type": "stream",
     "text": [
      "(3894, 3238, 21307, 21387)\n",
      "(8.68455841563632, 1.9010826103183314e-18)\n"
     ]
    }
   ],
   "source": [
    "## Comparing mens with womens email treatment and testing for significance for visitor rate\n",
    "import statsmodels.api as sm \n",
    "\n",
    "visit_mensemail = (data.query('segment==\"Mens E-Mail\"')['visit']==1).sum()\n",
    "visit_womensemail = (data.query('segment==\"Womens E-Mail\"')['visit']==1).sum()\n",
    "n_mensemail = (data['segment']=='Mens E-Mail').sum()\n",
    "n_womensemail =(data['segment']=='Womens E-Mail').sum()\n",
    "\n",
    "print((visit_mensemail, visit_womensemail, n_mensemail, n_womensemail))\n",
    "\n",
    "z_score, p_value = sm.stats.proportions_ztest([visit_mensemail, visit_womensemail], [n_mensemail, n_womensemail], alternative='larger')\n",
    "print((z_score, p_value))"
   ]
  },
  {
   "cell_type": "code",
   "execution_count": 31,
   "metadata": {},
   "outputs": [
    {
     "data": {
      "text/html": [
       "<div>\n",
       "<style scoped>\n",
       "    .dataframe tbody tr th:only-of-type {\n",
       "        vertical-align: middle;\n",
       "    }\n",
       "\n",
       "    .dataframe tbody tr th {\n",
       "        vertical-align: top;\n",
       "    }\n",
       "\n",
       "    .dataframe thead th {\n",
       "        text-align: right;\n",
       "    }\n",
       "</style>\n",
       "<table border=\"1\" class=\"dataframe\">\n",
       "  <thead>\n",
       "    <tr style=\"text-align: right;\">\n",
       "      <th></th>\n",
       "      <th>recency</th>\n",
       "      <th>history_segment</th>\n",
       "      <th>history</th>\n",
       "      <th>mens</th>\n",
       "      <th>womens</th>\n",
       "      <th>zip_code</th>\n",
       "      <th>newbie</th>\n",
       "      <th>channel</th>\n",
       "      <th>segment</th>\n",
       "      <th>visit</th>\n",
       "      <th>conversion</th>\n",
       "      <th>spend</th>\n",
       "      <th>purchase_history</th>\n",
       "      <th>intercept</th>\n",
       "      <th>segment_new</th>\n",
       "    </tr>\n",
       "  </thead>\n",
       "  <tbody>\n",
       "    <tr>\n",
       "      <th>0</th>\n",
       "      <td>10</td>\n",
       "      <td>2) $100 - $200</td>\n",
       "      <td>142.44</td>\n",
       "      <td>1</td>\n",
       "      <td>0</td>\n",
       "      <td>Surburban</td>\n",
       "      <td>0</td>\n",
       "      <td>Phone</td>\n",
       "      <td>Womens E-Mail</td>\n",
       "      <td>0</td>\n",
       "      <td>0</td>\n",
       "      <td>0.0</td>\n",
       "      <td>mens</td>\n",
       "      <td>1</td>\n",
       "      <td>0</td>\n",
       "    </tr>\n",
       "    <tr>\n",
       "      <th>1</th>\n",
       "      <td>6</td>\n",
       "      <td>3) $200 - $350</td>\n",
       "      <td>329.08</td>\n",
       "      <td>1</td>\n",
       "      <td>1</td>\n",
       "      <td>Rural</td>\n",
       "      <td>1</td>\n",
       "      <td>Web</td>\n",
       "      <td>No E-Mail</td>\n",
       "      <td>0</td>\n",
       "      <td>0</td>\n",
       "      <td>0.0</td>\n",
       "      <td>both</td>\n",
       "      <td>1</td>\n",
       "      <td>0</td>\n",
       "    </tr>\n",
       "    <tr>\n",
       "      <th>2</th>\n",
       "      <td>7</td>\n",
       "      <td>2) $100 - $200</td>\n",
       "      <td>180.65</td>\n",
       "      <td>0</td>\n",
       "      <td>1</td>\n",
       "      <td>Surburban</td>\n",
       "      <td>1</td>\n",
       "      <td>Web</td>\n",
       "      <td>Womens E-Mail</td>\n",
       "      <td>0</td>\n",
       "      <td>0</td>\n",
       "      <td>0.0</td>\n",
       "      <td>womens</td>\n",
       "      <td>1</td>\n",
       "      <td>0</td>\n",
       "    </tr>\n",
       "    <tr>\n",
       "      <th>3</th>\n",
       "      <td>9</td>\n",
       "      <td>5) $500 - $750</td>\n",
       "      <td>675.83</td>\n",
       "      <td>1</td>\n",
       "      <td>0</td>\n",
       "      <td>Rural</td>\n",
       "      <td>1</td>\n",
       "      <td>Web</td>\n",
       "      <td>Mens E-Mail</td>\n",
       "      <td>0</td>\n",
       "      <td>0</td>\n",
       "      <td>0.0</td>\n",
       "      <td>mens</td>\n",
       "      <td>1</td>\n",
       "      <td>1</td>\n",
       "    </tr>\n",
       "    <tr>\n",
       "      <th>4</th>\n",
       "      <td>2</td>\n",
       "      <td>1) $0 - $100</td>\n",
       "      <td>45.34</td>\n",
       "      <td>1</td>\n",
       "      <td>0</td>\n",
       "      <td>Urban</td>\n",
       "      <td>0</td>\n",
       "      <td>Web</td>\n",
       "      <td>Womens E-Mail</td>\n",
       "      <td>0</td>\n",
       "      <td>0</td>\n",
       "      <td>0.0</td>\n",
       "      <td>mens</td>\n",
       "      <td>1</td>\n",
       "      <td>0</td>\n",
       "    </tr>\n",
       "  </tbody>\n",
       "</table>\n",
       "</div>"
      ],
      "text/plain": [
       "   recency history_segment  history  mens  womens   zip_code  newbie channel  \\\n",
       "0       10  2) $100 - $200   142.44     1       0  Surburban       0   Phone   \n",
       "1        6  3) $200 - $350   329.08     1       1      Rural       1     Web   \n",
       "2        7  2) $100 - $200   180.65     0       1  Surburban       1     Web   \n",
       "3        9  5) $500 - $750   675.83     1       0      Rural       1     Web   \n",
       "4        2    1) $0 - $100    45.34     1       0      Urban       0     Web   \n",
       "\n",
       "         segment  visit  conversion  spend purchase_history  intercept  \\\n",
       "0  Womens E-Mail      0           0    0.0             mens          1   \n",
       "1      No E-Mail      0           0    0.0             both          1   \n",
       "2  Womens E-Mail      0           0    0.0           womens          1   \n",
       "3    Mens E-Mail      0           0    0.0             mens          1   \n",
       "4  Womens E-Mail      0           0    0.0             mens          1   \n",
       "\n",
       "   segment_new  \n",
       "0            0  \n",
       "1            0  \n",
       "2            0  \n",
       "3            1  \n",
       "4            0  "
      ]
     },
     "execution_count": 31,
     "metadata": {},
     "output_type": "execute_result"
    }
   ],
   "source": [
    "data['intercept']=1\n",
    "data['segment_new']=pd.get_dummies(data['segment'])['Mens E-Mail']\n",
    "data.head()"
   ]
  },
  {
   "cell_type": "code",
   "execution_count": 32,
   "metadata": {},
   "outputs": [
    {
     "name": "stdout",
     "output_type": "stream",
     "text": [
      "Optimization terminated successfully.\n",
      "         Current function value: 0.051176\n",
      "         Iterations 9\n"
     ]
    },
    {
     "data": {
      "text/html": [
       "<table class=\"simpletable\">\n",
       "<caption>Logit Regression Results</caption>\n",
       "<tr>\n",
       "  <th>Dep. Variable:</th>    <td>conversion</td>    <th>  No. Observations:  </th>  <td> 64000</td>  \n",
       "</tr>\n",
       "<tr>\n",
       "  <th>Model:</th>               <td>Logit</td>      <th>  Df Residuals:      </th>  <td> 63998</td>  \n",
       "</tr>\n",
       "<tr>\n",
       "  <th>Method:</th>               <td>MLE</td>       <th>  Df Model:          </th>  <td>     1</td>  \n",
       "</tr>\n",
       "<tr>\n",
       "  <th>Date:</th>          <td>Mon, 03 Jun 2019</td> <th>  Pseudo R-squ.:     </th> <td>0.006311</td> \n",
       "</tr>\n",
       "<tr>\n",
       "  <th>Time:</th>              <td>19:42:02</td>     <th>  Log-Likelihood:    </th> <td> -3275.3</td> \n",
       "</tr>\n",
       "<tr>\n",
       "  <th>converged:</th>           <td>True</td>       <th>  LL-Null:           </th> <td> -3296.1</td> \n",
       "</tr>\n",
       "<tr>\n",
       "  <th> </th>                      <td> </td>        <th>  LLR p-value:       </th> <td>1.118e-10</td>\n",
       "</tr>\n",
       "</table>\n",
       "<table class=\"simpletable\">\n",
       "<tr>\n",
       "       <td></td>          <th>coef</th>     <th>std err</th>      <th>z</th>      <th>P>|z|</th>  <th>[0.025</th>    <th>0.975]</th>  \n",
       "</tr>\n",
       "<tr>\n",
       "  <th>intercept</th>   <td>   -4.9147</td> <td>    0.057</td> <td>  -86.355</td> <td> 0.000</td> <td>   -5.026</td> <td>   -4.803</td>\n",
       "</tr>\n",
       "<tr>\n",
       "  <th>segment_new</th> <td>    0.5478</td> <td>    0.084</td> <td>    6.532</td> <td> 0.000</td> <td>    0.383</td> <td>    0.712</td>\n",
       "</tr>\n",
       "</table>"
      ],
      "text/plain": [
       "<class 'statsmodels.iolib.summary.Summary'>\n",
       "\"\"\"\n",
       "                           Logit Regression Results                           \n",
       "==============================================================================\n",
       "Dep. Variable:             conversion   No. Observations:                64000\n",
       "Model:                          Logit   Df Residuals:                    63998\n",
       "Method:                           MLE   Df Model:                            1\n",
       "Date:                Mon, 03 Jun 2019   Pseudo R-squ.:                0.006311\n",
       "Time:                        19:42:02   Log-Likelihood:                -3275.3\n",
       "converged:                       True   LL-Null:                       -3296.1\n",
       "                                        LLR p-value:                 1.118e-10\n",
       "===============================================================================\n",
       "                  coef    std err          z      P>|z|      [0.025      0.975]\n",
       "-------------------------------------------------------------------------------\n",
       "intercept      -4.9147      0.057    -86.355      0.000      -5.026      -4.803\n",
       "segment_new     0.5478      0.084      6.532      0.000       0.383       0.712\n",
       "===============================================================================\n",
       "\"\"\""
      ]
     },
     "execution_count": 32,
     "metadata": {},
     "output_type": "execute_result"
    }
   ],
   "source": [
    "from scipy import stats\n",
    "stats.chisqprob = lambda chisq, df: stats.chi2.sf(chisq, df)\n",
    "\n",
    "lm=sm.Logit(data['conversion'], data[['intercept', 'segment_new']])\n",
    "results=lm.fit()\n",
    "results.summary()"
   ]
  },
  {
   "cell_type": "markdown",
   "metadata": {},
   "source": [
    "## Uplift Modeling for Mens E-Mail campaign"
   ]
  },
  {
   "cell_type": "code",
   "execution_count": 40,
   "metadata": {},
   "outputs": [
    {
     "name": "stdout",
     "output_type": "stream",
     "text": [
      "Index(['recency', 'history_segment', 'history', 'mens', 'womens', 'zip_code',\n",
      "       'newbie', 'channel', 'segment', 'visit', 'conversion', 'spend',\n",
      "       'purchase_history', 'intercept', 'segment_new', 'treatment'],\n",
      "      dtype='object')\n",
      "    recency   history_segment  history  mens  womens   zip_code  newbie  \\\n",
      "1         6    3) $200 - $350   329.08     1       1      Rural       1   \n",
      "3         9    5) $500 - $750   675.83     1       0      Rural       1   \n",
      "8         9    5) $500 - $750   675.07     1       1      Rural       1   \n",
      "13        2    2) $100 - $200   101.64     0       1      Urban       0   \n",
      "14        4    3) $200 - $350   241.42     0       1      Rural       1   \n",
      "15        3      1) $0 - $100    58.13     1       0      Urban       1   \n",
      "16        5      1) $0 - $100    29.99     1       0  Surburban       0   \n",
      "17        9    2) $100 - $200   112.35     1       0      Rural       0   \n",
      "18       11    3) $200 - $350   219.04     1       1  Surburban       0   \n",
      "19        5  6) $750 - $1,000   828.42     1       0  Surburban       1   \n",
      "\n",
      "         channel      segment  visit  conversion  spend purchase_history  \\\n",
      "1            Web    No E-Mail      0           0    0.0             both   \n",
      "3            Web  Mens E-Mail      0           0    0.0             mens   \n",
      "8          Phone  Mens E-Mail      0           0    0.0             both   \n",
      "13           Web  Mens E-Mail      1           0    0.0           womens   \n",
      "14  Multichannel    No E-Mail      0           0    0.0           womens   \n",
      "15           Web    No E-Mail      1           0    0.0             mens   \n",
      "16         Phone  Mens E-Mail      0           0    0.0             mens   \n",
      "17           Web  Mens E-Mail      0           0    0.0             mens   \n",
      "18         Phone  Mens E-Mail      0           0    0.0             both   \n",
      "19  Multichannel  Mens E-Mail      0           0    0.0             mens   \n",
      "\n",
      "    intercept  segment_new  treatment  \n",
      "1           1            0          0  \n",
      "3           1            1          1  \n",
      "8           1            1          1  \n",
      "13          1            1          1  \n",
      "14          1            0          0  \n",
      "15          1            0          0  \n",
      "16          1            1          1  \n",
      "17          1            1          1  \n",
      "18          1            1          1  \n",
      "19          1            1          1  \n",
      "0    21912\n",
      "1     3655\n",
      "Name: visit, dtype: int64\n",
      "0    14545\n",
      "1     2501\n",
      "Name: visit, dtype: int64\n"
     ]
    }
   ],
   "source": [
    "# split data into train and valid\n",
    "data_mensemail = data[(data[\"segment\"] == \"Mens E-Mail\")|(data[\"segment\"] == \"No E-Mail\")].copy()\n",
    "data_mensemail['treatment'] = np.where(data_mensemail['segment'] == \"Mens E-Mail\", 1, 0)\n",
    "\n",
    "train, valid = sk.model_selection.train_test_split(data_mensemail, test_size=0.4,random_state=42)\n",
    "print(data_mensemail.columns)\n",
    "print(data_mensemail.head(10))\n",
    "\n",
    "features = ['recency','mens','womens','treatment','history','newbie']\n",
    "            \n",
    "Y_train = train['visit']\n",
    "X_train = train[features]\n",
    "\n",
    "Y_valid = valid['visit']\n",
    "X_valid = valid[features]\n",
    "\n",
    "print(Y_train.value_counts())\n",
    "print(Y_valid.value_counts())"
   ]
  },
  {
   "cell_type": "code",
   "execution_count": 41,
   "metadata": {},
   "outputs": [
    {
     "name": "stdout",
     "output_type": "stream",
     "text": [
      "Index(['recency', 'history_segment', 'history', 'mens', 'womens', 'zip_code',\n",
      "       'newbie', 'channel', 'segment', 'visit', 'conversion', 'spend',\n",
      "       'purchase_history', 'intercept', 'segment_new', 'treatment'],\n",
      "      dtype='object')\n",
      "    recency   history_segment  history  mens  womens   zip_code  newbie  \\\n",
      "1         6    3) $200 - $350   329.08     1       1      Rural       1   \n",
      "3         9    5) $500 - $750   675.83     1       0      Rural       1   \n",
      "8         9    5) $500 - $750   675.07     1       1      Rural       1   \n",
      "13        2    2) $100 - $200   101.64     0       1      Urban       0   \n",
      "14        4    3) $200 - $350   241.42     0       1      Rural       1   \n",
      "15        3      1) $0 - $100    58.13     1       0      Urban       1   \n",
      "16        5      1) $0 - $100    29.99     1       0  Surburban       0   \n",
      "17        9    2) $100 - $200   112.35     1       0      Rural       0   \n",
      "18       11    3) $200 - $350   219.04     1       1  Surburban       0   \n",
      "19        5  6) $750 - $1,000   828.42     1       0  Surburban       1   \n",
      "\n",
      "         channel      segment  visit  conversion  spend purchase_history  \\\n",
      "1            Web    No E-Mail      0           0    0.0             both   \n",
      "3            Web  Mens E-Mail      0           0    0.0             mens   \n",
      "8          Phone  Mens E-Mail      0           0    0.0             both   \n",
      "13           Web  Mens E-Mail      1           0    0.0           womens   \n",
      "14  Multichannel    No E-Mail      0           0    0.0           womens   \n",
      "15           Web    No E-Mail      1           0    0.0             mens   \n",
      "16         Phone  Mens E-Mail      0           0    0.0             mens   \n",
      "17           Web  Mens E-Mail      0           0    0.0             mens   \n",
      "18         Phone  Mens E-Mail      0           0    0.0             both   \n",
      "19  Multichannel  Mens E-Mail      0           0    0.0             mens   \n",
      "\n",
      "    intercept  segment_new  treatment  \n",
      "1           1            0          0  \n",
      "3           1            1          1  \n",
      "8           1            1          1  \n",
      "13          1            1          1  \n",
      "14          1            0          0  \n",
      "15          1            0          0  \n",
      "16          1            1          1  \n",
      "17          1            1          1  \n",
      "18          1            1          1  \n",
      "19          1            1          1  \n",
      "0    21912\n",
      "1     3655\n",
      "Name: visit, dtype: int64\n",
      "0    14545\n",
      "1     2501\n",
      "Name: visit, dtype: int64\n"
     ]
    }
   ],
   "source": [
    "data_mensemail = data[(data[\"segment\"] == \"Mens E-Mail\")|(data[\"segment\"] == \"No E-Mail\")].copy()\n",
    "data_mensemail['treatment'] = np.where(data_mensemail['segment'] == \"Mens E-Mail\", 1, 0)\n",
    "\n",
    "train, valid = sk.model_selection.train_test_split(data_mensemail, test_size=0.4,random_state=42)\n",
    "print(data_mensemail.columns)\n",
    "print(data_mensemail.head(10))\n",
    "\n",
    "features = ['recency','mens','womens','treatment','history','newbie']\n",
    "            \n",
    "Y_train = train['visit']\n",
    "X_train = train[features]\n",
    "\n",
    "Y_valid = valid['visit']\n",
    "X_valid = valid[features]\n",
    "\n",
    "print(Y_train.value_counts())\n",
    "print(Y_valid.value_counts())"
   ]
  },
  {
   "cell_type": "code",
   "execution_count": 42,
   "metadata": {},
   "outputs": [
    {
     "name": "stderr",
     "output_type": "stream",
     "text": [
      "C:\\Users\\kalya\\AppData\\Local\\Continuum\\anaconda3\\lib\\site-packages\\sklearn\\utils\\deprecation.py:77: DeprecationWarning: Function _ratio_float is deprecated; Use a float for 'ratio' is deprecated from version 0.2. The support will be removed in 0.4. Use a dict, str, or a callable instead.\n",
      "  warnings.warn(msg, category=DeprecationWarning)\n"
     ]
    }
   ],
   "source": [
    "# up sample with SMOTE\n",
    "sm = SMOTE(random_state=42, ratio = 1.0)\n",
    "X_train_upsamp, Y_train_upsamp = sm.fit_sample(X_train, Y_train)\n",
    "    \n",
    "X_train_upsamp = pd.DataFrame(X_train_upsamp, columns=features)\n",
    "\n",
    "Y_train_upsamp = pd.Series(Y_train_upsamp)"
   ]
  },
  {
   "cell_type": "code",
   "execution_count": 43,
   "metadata": {},
   "outputs": [
    {
     "name": "stdout",
     "output_type": "stream",
     "text": [
      "[0]\tvalidation_0-auc:0.873157\tvalidation_1-auc:0.62383\n",
      "Multiple eval metrics have been passed: 'validation_1-auc' will be used for early stopping.\n",
      "\n",
      "Will train until validation_1-auc hasn't improved in 30 rounds.\n",
      "[1]\tvalidation_0-auc:0.880292\tvalidation_1-auc:0.627644\n",
      "[2]\tvalidation_0-auc:0.883262\tvalidation_1-auc:0.62823\n",
      "[3]\tvalidation_0-auc:0.883602\tvalidation_1-auc:0.628804\n",
      "[4]\tvalidation_0-auc:0.885808\tvalidation_1-auc:0.628267\n",
      "[5]\tvalidation_0-auc:0.888538\tvalidation_1-auc:0.6268\n",
      "[6]\tvalidation_0-auc:0.88924\tvalidation_1-auc:0.627469\n",
      "[7]\tvalidation_0-auc:0.890105\tvalidation_1-auc:0.627358\n",
      "[8]\tvalidation_0-auc:0.892253\tvalidation_1-auc:0.627314\n",
      "[9]\tvalidation_0-auc:0.893463\tvalidation_1-auc:0.626723\n",
      "[10]\tvalidation_0-auc:0.894557\tvalidation_1-auc:0.626325\n",
      "[11]\tvalidation_0-auc:0.895262\tvalidation_1-auc:0.627014\n",
      "[12]\tvalidation_0-auc:0.89664\tvalidation_1-auc:0.627688\n",
      "[13]\tvalidation_0-auc:0.898177\tvalidation_1-auc:0.627299\n",
      "[14]\tvalidation_0-auc:0.899641\tvalidation_1-auc:0.627166\n",
      "[15]\tvalidation_0-auc:0.900824\tvalidation_1-auc:0.627513\n",
      "[16]\tvalidation_0-auc:0.902377\tvalidation_1-auc:0.627322\n",
      "[17]\tvalidation_0-auc:0.903931\tvalidation_1-auc:0.626888\n",
      "[18]\tvalidation_0-auc:0.90454\tvalidation_1-auc:0.626245\n",
      "[19]\tvalidation_0-auc:0.906401\tvalidation_1-auc:0.626252\n",
      "[20]\tvalidation_0-auc:0.90678\tvalidation_1-auc:0.625601\n",
      "[21]\tvalidation_0-auc:0.908258\tvalidation_1-auc:0.625031\n",
      "[22]\tvalidation_0-auc:0.908393\tvalidation_1-auc:0.624393\n",
      "[23]\tvalidation_0-auc:0.910643\tvalidation_1-auc:0.624332\n",
      "[24]\tvalidation_0-auc:0.911843\tvalidation_1-auc:0.624687\n",
      "[25]\tvalidation_0-auc:0.912544\tvalidation_1-auc:0.624552\n",
      "[26]\tvalidation_0-auc:0.913589\tvalidation_1-auc:0.624108\n",
      "[27]\tvalidation_0-auc:0.914968\tvalidation_1-auc:0.623586\n",
      "[28]\tvalidation_0-auc:0.915943\tvalidation_1-auc:0.623617\n",
      "[29]\tvalidation_0-auc:0.916275\tvalidation_1-auc:0.623121\n",
      "[30]\tvalidation_0-auc:0.917067\tvalidation_1-auc:0.623289\n",
      "[31]\tvalidation_0-auc:0.918021\tvalidation_1-auc:0.62243\n",
      "[32]\tvalidation_0-auc:0.918642\tvalidation_1-auc:0.622219\n",
      "[33]\tvalidation_0-auc:0.92019\tvalidation_1-auc:0.621934\n",
      "Stopping. Best iteration:\n",
      "[3]\tvalidation_0-auc:0.883602\tvalidation_1-auc:0.628804\n",
      "\n"
     ]
    },
    {
     "data": {
      "text/plain": [
       "XGBClassifier(base_score=0.5, booster='gbtree', colsample_bylevel=1,\n",
       "       colsample_bytree=1, gamma=0.1, learning_rate=0.1, max_delta_step=0,\n",
       "       max_depth=7, min_child_weight=5, missing=None, n_estimators=100,\n",
       "       n_jobs=1, nthread=None, objective='binary:logistic', random_state=0,\n",
       "       reg_alpha=0, reg_lambda=1, scale_pos_weight=1, seed=42, silent=True,\n",
       "       subsample=1)"
      ]
     },
     "execution_count": 43,
     "metadata": {},
     "output_type": "execute_result"
    }
   ],
   "source": [
    "eval_set = [(X_train_upsamp, Y_train_upsamp), (X_valid, Y_valid)]\n",
    "model = xgb.XGBClassifier(learning_rate = 0.1,\\\n",
    "                                  max_depth = 7,\\\n",
    "                                  min_child_weight = 5,\\\n",
    "                                  objective = 'binary:logistic',\\\n",
    "                                  seed = 42,\\\n",
    "                                  gamma = 0.1,\\\n",
    "                                  silent = True)\n",
    "model.fit(X_train_upsamp, Y_train_upsamp, eval_set=eval_set,\\\n",
    "                    eval_metric=\"auc\", verbose=True, early_stopping_rounds=30)"
   ]
  },
  {
   "cell_type": "code",
   "execution_count": 44,
   "metadata": {},
   "outputs": [
    {
     "name": "stdout",
     "output_type": "stream",
     "text": [
      "[[1.  0. ]\n",
      " [0.9 0.1]\n",
      " [0.4 0.6]\n",
      " ...\n",
      " [0.  1. ]\n",
      " [0.  1. ]\n",
      " [0.  1. ]]\n",
      "[[1.         0.        ]\n",
      " [0.6        0.4       ]\n",
      " [1.         0.        ]\n",
      " ...\n",
      " [0.82674286 0.17325714]\n",
      " [1.         0.        ]\n",
      " [0.9        0.1       ]]\n"
     ]
    }
   ],
   "source": [
    "from sklearn.ensemble import RandomForestClassifier\n",
    "clf = RandomForestClassifier()\n",
    "\n",
    "clf.fit(X_train_upsamp,Y_train_upsamp)\n",
    "\n",
    "pred_train = clf.predict_proba(X_train_upsamp)\n",
    "pred_test = clf.predict_proba(X_valid)\n",
    "\n",
    "print(pred_train)\n",
    "print(pred_test)"
   ]
  },
  {
   "cell_type": "code",
   "execution_count": 45,
   "metadata": {},
   "outputs": [
    {
     "name": "stdout",
     "output_type": "stream",
     "text": [
      "Training AUC score: 0.994325164218559\n",
      "Testing AUC score: 0.5450350901234555\n"
     ]
    }
   ],
   "source": [
    "## AUC calculations\n",
    "from sklearn.metrics import roc_auc_score\n",
    "auc_train = roc_auc_score(Y_train_upsamp, pred_train[:,1])\n",
    "print(\"Training AUC score:\", auc_train)\n",
    "\n",
    "auc_test = roc_auc_score(Y_valid, pred_test[:,1])\n",
    "print(\"Testing AUC score:\", auc_test)"
   ]
  },
  {
   "cell_type": "code",
   "execution_count": 46,
   "metadata": {},
   "outputs": [
    {
     "name": "stderr",
     "output_type": "stream",
     "text": [
      "C:\\Users\\kalya\\AppData\\Local\\Continuum\\anaconda3\\lib\\site-packages\\matplotlib\\cbook\\deprecation.py:107: MatplotlibDeprecationWarning: Passing one of 'on', 'true', 'off', 'false' as a boolean is deprecated; use an actual boolean (True/False) instead.\n",
      "  warnings.warn(message, mplDeprecation, stacklevel=1)\n",
      "C:\\Users\\kalya\\AppData\\Local\\Continuum\\anaconda3\\lib\\site-packages\\matplotlib\\cbook\\deprecation.py:107: MatplotlibDeprecationWarning: Passing one of 'on', 'true', 'off', 'false' as a boolean is deprecated; use an actual boolean (True/False) instead.\n",
      "  warnings.warn(message, mplDeprecation, stacklevel=1)\n"
     ]
    },
    {
     "data": {
      "image/png": "[encoded data removed]",
      "text/plain": [
       "<Figure size 432x288 with 1 Axes>"
      ]
     },
     "metadata": {},
     "output_type": "display_data"
    },
    {
     "data": {
      "image/png": "[encoded data removed]",
      "text/plain": [
       "<Figure size 432x288 with 1 Axes>"
      ]
     },
     "metadata": {},
     "output_type": "display_data"
    }
   ],
   "source": [
    "import matplotlib.pyplot as plt\n",
    "import scikitplot as skplt\n",
    "\n",
    "skplt.metrics.plot_cumulative_gain(Y_train_upsamp, pred_train)\n",
    "skplt.metrics.plot_cumulative_gain(Y_valid, pred_test)\n",
    "plt.show()"
   ]
  },
  {
   "cell_type": "code",
   "execution_count": 47,
   "metadata": {},
   "outputs": [
    {
     "ename": "ValueError",
     "evalue": "Classification metrics can't handle a mix of continuous-multioutput and binary targets",
     "output_type": "error",
     "traceback": [
      "\u001b[1;31m---------------------------------------------------------------------------\u001b[0m",
      "\u001b[1;31mValueError\u001b[0m                                Traceback (most recent call last)",
      "\u001b[1;32m<ipython-input-47-998998b2e9cd>\u001b[0m in \u001b[0;36m<module>\u001b[1;34m()\u001b[0m\n\u001b[0;32m      1\u001b[0m \u001b[1;32mfrom\u001b[0m \u001b[0msklearn\u001b[0m\u001b[1;33m.\u001b[0m\u001b[0mmetrics\u001b[0m \u001b[1;32mimport\u001b[0m \u001b[0maccuracy_score\u001b[0m\u001b[1;33m\u001b[0m\u001b[0m\n\u001b[1;32m----> 2\u001b[1;33m \u001b[0maccuracy_train\u001b[0m \u001b[1;33m=\u001b[0m \u001b[0maccuracy_score\u001b[0m\u001b[1;33m(\u001b[0m\u001b[0mpred_train\u001b[0m\u001b[1;33m,\u001b[0m\u001b[0mY_train_upsamp\u001b[0m\u001b[1;33m)\u001b[0m\u001b[1;33m\u001b[0m\u001b[0m\n\u001b[0m\u001b[0;32m      3\u001b[0m \u001b[0maccuracy_test\u001b[0m \u001b[1;33m=\u001b[0m \u001b[0maccuracy_score\u001b[0m\u001b[1;33m(\u001b[0m\u001b[0mpred_test\u001b[0m\u001b[1;33m,\u001b[0m\u001b[0mY_valid\u001b[0m\u001b[1;33m)\u001b[0m\u001b[1;33m\u001b[0m\u001b[0m\n\u001b[0;32m      4\u001b[0m \u001b[1;33m\u001b[0m\u001b[0m\n\u001b[0;32m      5\u001b[0m \u001b[0mprint\u001b[0m\u001b[1;33m(\u001b[0m\u001b[0maccuracy_train\u001b[0m\u001b[1;33m)\u001b[0m\u001b[1;33m\u001b[0m\u001b[0m\n",
      "\u001b[1;32m~\\AppData\\Local\\Continuum\\anaconda3\\lib\\site-packages\\sklearn\\metrics\\classification.py\u001b[0m in \u001b[0;36maccuracy_score\u001b[1;34m(y_true, y_pred, normalize, sample_weight)\u001b[0m\n\u001b[0;32m    174\u001b[0m \u001b[1;33m\u001b[0m\u001b[0m\n\u001b[0;32m    175\u001b[0m     \u001b[1;31m# Compute accuracy for each possible representation\u001b[0m\u001b[1;33m\u001b[0m\u001b[1;33m\u001b[0m\u001b[0m\n\u001b[1;32m--> 176\u001b[1;33m     \u001b[0my_type\u001b[0m\u001b[1;33m,\u001b[0m \u001b[0my_true\u001b[0m\u001b[1;33m,\u001b[0m \u001b[0my_pred\u001b[0m \u001b[1;33m=\u001b[0m \u001b[0m_check_targets\u001b[0m\u001b[1;33m(\u001b[0m\u001b[0my_true\u001b[0m\u001b[1;33m,\u001b[0m \u001b[0my_pred\u001b[0m\u001b[1;33m)\u001b[0m\u001b[1;33m\u001b[0m\u001b[0m\n\u001b[0m\u001b[0;32m    177\u001b[0m     \u001b[1;32mif\u001b[0m \u001b[0my_type\u001b[0m\u001b[1;33m.\u001b[0m\u001b[0mstartswith\u001b[0m\u001b[1;33m(\u001b[0m\u001b[1;34m'multilabel'\u001b[0m\u001b[1;33m)\u001b[0m\u001b[1;33m:\u001b[0m\u001b[1;33m\u001b[0m\u001b[0m\n\u001b[0;32m    178\u001b[0m         \u001b[0mdiffering_labels\u001b[0m \u001b[1;33m=\u001b[0m \u001b[0mcount_nonzero\u001b[0m\u001b[1;33m(\u001b[0m\u001b[0my_true\u001b[0m \u001b[1;33m-\u001b[0m \u001b[0my_pred\u001b[0m\u001b[1;33m,\u001b[0m \u001b[0maxis\u001b[0m\u001b[1;33m=\u001b[0m\u001b[1;36m1\u001b[0m\u001b[1;33m)\u001b[0m\u001b[1;33m\u001b[0m\u001b[0m\n",
      "\u001b[1;32m~\\AppData\\Local\\Continuum\\anaconda3\\lib\\site-packages\\sklearn\\metrics\\classification.py\u001b[0m in \u001b[0;36m_check_targets\u001b[1;34m(y_true, y_pred)\u001b[0m\n\u001b[0;32m     79\u001b[0m     \u001b[1;32mif\u001b[0m \u001b[0mlen\u001b[0m\u001b[1;33m(\u001b[0m\u001b[0my_type\u001b[0m\u001b[1;33m)\u001b[0m \u001b[1;33m>\u001b[0m \u001b[1;36m1\u001b[0m\u001b[1;33m:\u001b[0m\u001b[1;33m\u001b[0m\u001b[0m\n\u001b[0;32m     80\u001b[0m         raise ValueError(\"Classification metrics can't handle a mix of {0} \"\n\u001b[1;32m---> 81\u001b[1;33m                          \"and {1} targets\".format(type_true, type_pred))\n\u001b[0m\u001b[0;32m     82\u001b[0m \u001b[1;33m\u001b[0m\u001b[0m\n\u001b[0;32m     83\u001b[0m     \u001b[1;31m# We can't have more than one value on y_type => The set is no more needed\u001b[0m\u001b[1;33m\u001b[0m\u001b[1;33m\u001b[0m\u001b[0m\n",
      "\u001b[1;31mValueError\u001b[0m: Classification metrics can't handle a mix of continuous-multioutput and binary targets"
     ]
    }
   ],
   "source": [
    "from sklearn.metrics import accuracy_score\n",
    "accuracy_train = accuracy_score(pred_train,Y_train_upsamp)\n",
    "accuracy_test = accuracy_score(pred_test,Y_valid)\n",
    "\n",
    "print(accuracy_train)\n",
    "print(accuracy_test)\n",
    "\n",
    "from sklearn import metrics\n",
    "fpr, tpr, _ = metrics.roc_curve(np.array(Y_train_upsamp), clf.predict_proba(X_train_upsamp)[:,1])\n",
    "auc_train = metrics.auc(fpr,tpr)\n",
    "\n",
    "fpr, tpr, _ = metrics.roc_curve(np.array(Y_valid), clf.predict_proba(X_valid)[:,1])\n",
    "auc_test = metrics.auc(fpr,tpr)\n",
    "\n",
    "print(auc_train)\n",
    "print(auc_test)"
   ]
  },
  {
   "cell_type": "code",
   "execution_count": 48,
   "metadata": {},
   "outputs": [
    {
     "ename": "Exception",
     "evalue": "Data must be 1-dimensional",
     "output_type": "error",
     "traceback": [
      "\u001b[1;31m---------------------------------------------------------------------------\u001b[0m",
      "\u001b[1;31mException\u001b[0m                                 Traceback (most recent call last)",
      "\u001b[1;32m<ipython-input-48-8df232d0d6d4>\u001b[0m in \u001b[0;36m<module>\u001b[1;34m()\u001b[0m\n\u001b[1;32m----> 1\u001b[1;33m \u001b[0mpd\u001b[0m\u001b[1;33m.\u001b[0m\u001b[0mcrosstab\u001b[0m\u001b[1;33m(\u001b[0m\u001b[0mY_train_upsamp\u001b[0m\u001b[1;33m,\u001b[0m\u001b[0mpd\u001b[0m\u001b[1;33m.\u001b[0m\u001b[0mSeries\u001b[0m\u001b[1;33m(\u001b[0m\u001b[0mpred_train\u001b[0m\u001b[1;33m)\u001b[0m\u001b[1;33m,\u001b[0m\u001b[0mrownames\u001b[0m\u001b[1;33m=\u001b[0m\u001b[1;33m[\u001b[0m\u001b[1;34m'ACTUAL'\u001b[0m\u001b[1;33m]\u001b[0m\u001b[1;33m,\u001b[0m\u001b[0mcolnames\u001b[0m\u001b[1;33m=\u001b[0m\u001b[1;33m[\u001b[0m\u001b[1;34m'PRED'\u001b[0m\u001b[1;33m]\u001b[0m\u001b[1;33m)\u001b[0m\u001b[1;33m\u001b[0m\u001b[0m\n\u001b[0m",
      "\u001b[1;32m~\\AppData\\Local\\Continuum\\anaconda3\\lib\\site-packages\\pandas\\core\\series.py\u001b[0m in \u001b[0;36m__init__\u001b[1;34m(self, data, index, dtype, name, copy, fastpath)\u001b[0m\n\u001b[0;32m    272\u001b[0m             \u001b[1;32melse\u001b[0m\u001b[1;33m:\u001b[0m\u001b[1;33m\u001b[0m\u001b[0m\n\u001b[0;32m    273\u001b[0m                 data = _sanitize_array(data, index, dtype, copy,\n\u001b[1;32m--> 274\u001b[1;33m                                        raise_cast_failure=True)\n\u001b[0m\u001b[0;32m    275\u001b[0m \u001b[1;33m\u001b[0m\u001b[0m\n\u001b[0;32m    276\u001b[0m                 \u001b[0mdata\u001b[0m \u001b[1;33m=\u001b[0m \u001b[0mSingleBlockManager\u001b[0m\u001b[1;33m(\u001b[0m\u001b[0mdata\u001b[0m\u001b[1;33m,\u001b[0m \u001b[0mindex\u001b[0m\u001b[1;33m,\u001b[0m \u001b[0mfastpath\u001b[0m\u001b[1;33m=\u001b[0m\u001b[1;32mTrue\u001b[0m\u001b[1;33m)\u001b[0m\u001b[1;33m\u001b[0m\u001b[0m\n",
      "\u001b[1;32m~\\AppData\\Local\\Continuum\\anaconda3\\lib\\site-packages\\pandas\\core\\series.py\u001b[0m in \u001b[0;36m_sanitize_array\u001b[1;34m(data, index, dtype, copy, raise_cast_failure)\u001b[0m\n\u001b[0;32m   4159\u001b[0m     \u001b[1;32melif\u001b[0m \u001b[0msubarr\u001b[0m\u001b[1;33m.\u001b[0m\u001b[0mndim\u001b[0m \u001b[1;33m>\u001b[0m \u001b[1;36m1\u001b[0m\u001b[1;33m:\u001b[0m\u001b[1;33m\u001b[0m\u001b[0m\n\u001b[0;32m   4160\u001b[0m         \u001b[1;32mif\u001b[0m \u001b[0misinstance\u001b[0m\u001b[1;33m(\u001b[0m\u001b[0mdata\u001b[0m\u001b[1;33m,\u001b[0m \u001b[0mnp\u001b[0m\u001b[1;33m.\u001b[0m\u001b[0mndarray\u001b[0m\u001b[1;33m)\u001b[0m\u001b[1;33m:\u001b[0m\u001b[1;33m\u001b[0m\u001b[0m\n\u001b[1;32m-> 4161\u001b[1;33m             \u001b[1;32mraise\u001b[0m \u001b[0mException\u001b[0m\u001b[1;33m(\u001b[0m\u001b[1;34m'Data must be 1-dimensional'\u001b[0m\u001b[1;33m)\u001b[0m\u001b[1;33m\u001b[0m\u001b[0m\n\u001b[0m\u001b[0;32m   4162\u001b[0m         \u001b[1;32melse\u001b[0m\u001b[1;33m:\u001b[0m\u001b[1;33m\u001b[0m\u001b[0m\n\u001b[0;32m   4163\u001b[0m             \u001b[0msubarr\u001b[0m \u001b[1;33m=\u001b[0m \u001b[0mcom\u001b[0m\u001b[1;33m.\u001b[0m\u001b[0m_asarray_tuplesafe\u001b[0m\u001b[1;33m(\u001b[0m\u001b[0mdata\u001b[0m\u001b[1;33m,\u001b[0m \u001b[0mdtype\u001b[0m\u001b[1;33m=\u001b[0m\u001b[0mdtype\u001b[0m\u001b[1;33m)\u001b[0m\u001b[1;33m\u001b[0m\u001b[0m\n",
      "\u001b[1;31mException\u001b[0m: Data must be 1-dimensional"
     ]
    }
   ],
   "source": [
    "pd.crosstab(Y_train_upsamp,pd.Series(pred_train),rownames=['ACTUAL'],colnames=['PRED'])"
   ]
  },
  {
   "cell_type": "code",
   "execution_count": null,
   "metadata": {},
   "outputs": [],
   "source": [
    "##from bokeh.plotting import Histogram\n",
    "from ipywidgets import interact\n",
    "from bokeh.plotting import figure\n",
    "from bokeh.io import push_notebook, show, output_notebook\n",
    "output_notebook()\n",
    "from sklearn import metrics\n",
    "preds = clf.predict_proba(X_train_upsamp)[:,1]\n",
    "fpr, tpr, _ = metrics.roc_curve(np.array(Y_train_upsamp), preds)\n",
    "auc = metrics.auc(fpr,tpr)\n",
    "p = figure(title=\"ROC Curve - Train data\")\n",
    "r = p.line(fpr,tpr,color='#0077bc',legend = 'AUC = '+ str(round(auc,3)), line_width=2)\n",
    "s = p.line([0,1],[0,1], color= '#d15555',line_dash='dotdash',line_width=2)\n",
    "show(p)"
   ]
  },
  {
   "cell_type": "code",
   "execution_count": null,
   "metadata": {},
   "outputs": [],
   "source": [
    "##from bokeh.plotting import Histogram\n",
    "from ipywidgets import interact\n",
    "from bokeh.plotting import figure\n",
    "from bokeh.io import push_notebook, show, output_notebook\n",
    "output_notebook()\n",
    "from sklearn import metrics\n",
    "preds = clf.predict_proba(X_valid)[:,1]\n",
    "fpr, tpr, _ = metrics.roc_curve(np.array(Y_valid), preds)\n",
    "auc = metrics.auc(fpr,tpr)\n",
    "p = figure(title=\"ROC Curve - validation data\")\n",
    "r = p.line(fpr,tpr,color='#0077bc',legend = 'AUC = '+ str(round(auc,3)), line_width=2)\n",
    "s = p.line([0,1],[0,1], color= '#d15555',line_dash='dotdash',line_width=2)\n",
    "show(p)"
   ]
  },
  {
   "cell_type": "markdown",
   "metadata": {},
   "source": [
    "## Uplift Modeling using Logistic Regression: Control vs Mens - Email treatment"
   ]
  },
  {
   "cell_type": "code",
   "execution_count": null,
   "metadata": {},
   "outputs": [],
   "source": [
    "## First model building a Treatment model: Predict whether customer visits or not\n",
    "from sklearn.linear_model import LogisticRegression\n",
    "\n",
    "data_mensemail = data[(data[\"segment\"] == \"Mens E-Mail\")|(data[\"segment\"] == \"No E-Mail\")].copy()\n",
    "data_mensemail['treatment'] = np.where(data_mensemail['segment'] == \"Mens E-Mail\", 1, 0)\n",
    "\n",
    "features = ['recency','mens','womens','newbie','treatment','history_segment','zip_code']\n",
    "\n",
    "# split data into train and valid\n",
    "train, valid = sk.model_selection.train_test_split(data_mensemail, test_size=0.4,random_state=42)\n",
    "# Generate validation data\n",
    "# one for control group, another for treatment group\n",
    "valid_control = valid[valid['segment']=='No E-Mail']\n",
    "Y_valid_control = valid_control['visit']\n",
    "X_valid_control = valid_control[features]\n",
    "\n",
    "valid_exper = valid[valid['segment']=='Mens E-Mail']\n",
    "Y_valid_exper = valid_exper['visit']\n",
    "X_valid_exper = valid_exper[features]\n",
    "\n",
    "print(len(valid_control))\n",
    "print(len(valid_exper))\n",
    "\n",
    "print(valid_control[\"visit\"].value_counts())\n",
    "print(valid_exper[\"visit\"].value_counts())\n",
    "\n",
    "\n",
    "print(valid_control[\"treatment\"].value_counts())\n",
    "print(valid_exper[\"treatment\"].value_counts())"
   ]
  },
  {
   "cell_type": "code",
   "execution_count": null,
   "metadata": {},
   "outputs": [],
   "source": [
    "train_control = train[train['segment']=='No E-Mail']\n",
    "Y_train_control = train_control['visit']\n",
    "X_train_control = train_control[features]\n",
    "\n",
    "train_exper = train[train['segment']=='Mens E-Mail']\n",
    "Y_train_exper = train_exper['visit']\n",
    "X_train_exper = train_exper[features]\n",
    "\n",
    "print(len(train_control))\n",
    "print(len(train_exper))\n",
    "\n",
    "print(train_control[\"visit\"].value_counts())\n",
    "print(train_exper[\"visit\"].value_counts())\n",
    "\n",
    "\n",
    "print(train_control[\"treatment\"].value_counts())\n",
    "print(train_exper[\"treatment\"].value_counts())"
   ]
  },
  {
   "cell_type": "code",
   "execution_count": null,
   "metadata": {},
   "outputs": [],
   "source": [
    "# up-sample training data with SMOTE\n",
    "sm = SMOTE(random_state=42, ratio = 1.0)\n",
    "\n",
    "# up-sample control group\n",
    "X_train_control_upsamp, Y_train_control_upsamp = sm.fit_sample(X_train_control, Y_train_control)\n",
    "X_train_control_upsamp = pd.DataFrame(X_train_control_upsamp, columns=features)\n",
    "Y_train_control_upsamp = pd.Series(Y_train_control_upsamp)\n",
    "\n",
    "print(Y_train_control_upsamp.value_counts())\n",
    "\n",
    "# up-sample treatment group\n",
    "X_train_exper_upsamp, Y_train_exper_upsamp = sm.fit_sample(X_train_exper, Y_train_exper)    \n",
    "X_train_exper_upsamp = pd.DataFrame(X_train_exper_upsamp, columns=features)\n",
    "Y_train_exper_upsamp = pd.Series(Y_train_exper_upsamp)\n",
    "\n",
    "print(Y_train_exper_upsamp.value_counts())"
   ]
  },
  {
   "cell_type": "code",
   "execution_count": null,
   "metadata": {},
   "outputs": [],
   "source": [
    "## Training the control model\n",
    "model_control = LogisticRegression()\n",
    "model_control.fit(X_train_control_upsamp, Y_train_control_upsamp)\n",
    "\n",
    "## Training the treatment model\n",
    "model_treatment = LogisticRegression()\n",
    "model_treatment.fit(X_train_exper_upsamp, Y_train_exper_upsamp)"
   ]
  },
  {
   "cell_type": "code",
   "execution_count": null,
   "metadata": {},
   "outputs": [],
   "source": [
    "## Predictions on validation data set for control and treatment groups\n",
    "control_valid_pred = model_control.predict(X_valid_control)\n",
    "exper_valid_pred = model_control.predict(X_valid_exper)\n",
    "\n",
    "print(control_valid_pred)\n",
    "print(exper_valid_pred)"
   ]
  },
  {
   "cell_type": "code",
   "execution_count": null,
   "metadata": {},
   "outputs": [],
   "source": [
    "pred_probs_contol = model_control.predict_proba(X_valid_control)\n",
    "pred_probs_exper = model_treatment.predict_proba(X_valid_control)"
   ]
  },
  {
   "cell_type": "code",
   "execution_count": null,
   "metadata": {},
   "outputs": [],
   "source": [
    "## Lift Calculation\n",
    "lift = pred_probs_exper[:,1] - pred_probs_contol[:,1]"
   ]
  },
  {
   "cell_type": "code",
   "execution_count": null,
   "metadata": {},
   "outputs": [],
   "source": [
    "print(lift)\n",
    "promotion = []\n",
    "cutoff_probs = []\n",
    "cutoff_lift = np.percentile(lift, 95)\n",
    "print(cutoff_lift)\n",
    "\n",
    "for prob in lift:\n",
    "        if prob > 0:\n",
    "            if prob > cutoff_lift:\n",
    "                promotion.append('Yes')\n",
    "                cutoff_probs.append(prob)\n",
    "        else:\n",
    "            promotion.append('No')\n",
    "\n",
    "promotion = np.array(promotion)\n",
    "print(len(promotion == 'Yes'))\n",
    "print(len(promotion == 'No'))\n",
    "print(cutoff_probs)"
   ]
  },
  {
   "cell_type": "code",
   "execution_count": null,
   "metadata": {},
   "outputs": [],
   "source": [
    "plt.hist(lift)\n",
    "plt.show()"
   ]
  },
  {
   "cell_type": "code",
   "execution_count": null,
   "metadata": {},
   "outputs": [],
   "source": [
    "print(max(lift))"
   ]
  },
  {
   "cell_type": "code",
   "execution_count": null,
   "metadata": {},
   "outputs": [],
   "source": [
    "print(min(lift))"
   ]
  },
  {
   "cell_type": "code",
   "execution_count": null,
   "metadata": {},
   "outputs": [],
   "source": [
    "print(model_control.coef_)\n",
    "print(model_treatment.coef_)"
   ]
  },
  {
   "cell_type": "code",
   "execution_count": null,
   "metadata": {},
   "outputs": [],
   "source": [
    "import matplotlib.pyplot as plt\n",
    "import scikitplot as skplt\n",
    "\n",
    "skplt.metrics.plot_cumulative_gain(Y_valid_control, pred_probs_control)\n",
    "plt.show()"
   ]
  },
  {
   "cell_type": "code",
   "execution_count": null,
   "metadata": {},
   "outputs": [],
   "source": [
    "import matplotlib.pyplot as plt\n",
    "import scikitplot as skplt\n",
    "\n",
    "skplt.metrics.plot_lift_curve(Y_valid_control, pred_probs_control)\n",
    "plt.show()"
   ]
  },
  {
   "cell_type": "markdown",
   "metadata": {},
   "source": [
    "## Uplift Modeling using Logistic Regression: Control vs Womens - Email treatment"
   ]
  },
  {
   "cell_type": "code",
   "execution_count": 54,
   "metadata": {},
   "outputs": [
    {
     "name": "stdout",
     "output_type": "stream",
     "text": [
      "8454\n",
      "8624\n",
      "0    7562\n",
      "1     892\n",
      "Name: visit, dtype: int64\n",
      "0    7301\n",
      "1    1323\n",
      "Name: visit, dtype: int64\n",
      "0    8454\n",
      "Name: treatment, dtype: int64\n",
      "1    8624\n",
      "Name: treatment, dtype: int64\n"
     ]
    }
   ],
   "source": [
    "## First model building a Treatment model: Predict whether customer visits or not\n",
    "from sklearn.linear_model import LogisticRegression\n",
    "\n",
    "data_womensemail = data[(data[\"segment\"] == \"Womens E-Mail\")|(data[\"segment\"] == \"No E-Mail\")].copy()\n",
    "data_womensemail['treatment'] = np.where(data_womensemail['segment'] == \"Womens E-Mail\", 1, 0)\n",
    "data_womensemail[\"history_segment2\"] = pd.get_dummies(data_womensemail[\"history_segment\"])[\"1) $0 - $100\"]\n",
    "data_womensemail[\"zip_code2\"] = pd.get_dummies(data_womensemail[\"zip_code\"])[\"Urban\"]\n",
    "\n",
    "features = ['recency','history','mens','womens','newbie','treatment','history_segment2','zip_code2']\n",
    "\n",
    "# split data into train and valid\n",
    "train, valid = sk.model_selection.train_test_split(data_womensemail, test_size=0.4,random_state=42)\n",
    "# Generate validation data\n",
    "# one for control group, another for treatment group\n",
    "valid_control = valid[valid['segment']=='No E-Mail']\n",
    "Y_valid_control = valid_control['visit']\n",
    "X_valid_control = valid_control[features]\n",
    "\n",
    "valid_exper = valid[valid['segment']=='Womens E-Mail']\n",
    "Y_valid_exper = valid_exper['visit']\n",
    "X_valid_exper = valid_exper[features]\n",
    "\n",
    "print(len(valid_control))\n",
    "print(len(valid_exper))\n",
    "\n",
    "print(valid_control[\"visit\"].value_counts())\n",
    "print(valid_exper[\"visit\"].value_counts())\n",
    "\n",
    "\n",
    "print(valid_control[\"treatment\"].value_counts())\n",
    "print(valid_exper[\"treatment\"].value_counts())"
   ]
  },
  {
   "cell_type": "code",
   "execution_count": 55,
   "metadata": {},
   "outputs": [
    {
     "name": "stdout",
     "output_type": "stream",
     "text": [
      "12852\n",
      "12763\n",
      "0    11482\n",
      "1     1370\n",
      "Name: visit, dtype: int64\n",
      "0    10848\n",
      "1     1915\n",
      "Name: visit, dtype: int64\n",
      "0    12852\n",
      "Name: treatment, dtype: int64\n",
      "1    12763\n",
      "Name: treatment, dtype: int64\n",
      "7657\n",
      "5106\n",
      "7657\n",
      "5106\n",
      "0    6508\n",
      "1    1149\n",
      "Name: visit, dtype: int64\n",
      "0    4340\n",
      "1     766\n",
      "Name: visit, dtype: int64\n",
      "7711\n",
      "5141\n",
      "7711\n",
      "5141\n",
      "0    6889\n",
      "1     822\n",
      "Name: visit, dtype: int64\n",
      "0    4593\n",
      "1     548\n",
      "Name: visit, dtype: int64\n"
     ]
    }
   ],
   "source": [
    "train_control = train[train['segment']=='No E-Mail']\n",
    "Y_train_control = train_control['visit']\n",
    "X_train_control = train_control[features]\n",
    "\n",
    "train_exper = train[train['segment']=='Womens E-Mail']\n",
    "Y_train_exper = train_exper['visit']\n",
    "X_train_exper = train_exper[features]\n",
    "\n",
    "print(len(train_control))\n",
    "print(len(train_exper))\n",
    "\n",
    "print(train_control[\"visit\"].value_counts())\n",
    "print(train_exper[\"visit\"].value_counts())\n",
    "\n",
    "\n",
    "print(train_control[\"treatment\"].value_counts())\n",
    "print(train_exper[\"treatment\"].value_counts())\n",
    "\n",
    "from sklearn.cross_validation import train_test_split\n",
    "X_treat_train, X_treat_test, y_treat_train, y_treat_test = train_test_split(X_train_exper, Y_train_exper, test_size = 0.4, stratify = Y_train_exper)\n",
    "print(len(X_treat_train))\n",
    "print(len(X_treat_test))\n",
    "print(len(y_treat_train))\n",
    "print(len(y_treat_test))\n",
    "print((y_treat_train.value_counts()))\n",
    "print((y_treat_test.value_counts()))\n",
    "\n",
    "\n",
    "X_cont_train, X_cont_test, y_cont_train, y_cont_test = train_test_split(X_train_control, Y_train_control, test_size = 0.4, stratify = Y_train_control)\n",
    "print(len(X_cont_train))\n",
    "print(len(X_cont_test))\n",
    "print(len(y_cont_train))\n",
    "print(len(y_cont_test))\n",
    "print((y_cont_train.value_counts()))\n",
    "print((y_cont_test.value_counts()))"
   ]
  },
  {
   "cell_type": "markdown",
   "metadata": {},
   "source": [
    "## Modeling without upsampling"
   ]
  },
  {
   "cell_type": "code",
   "execution_count": null,
   "metadata": {},
   "outputs": [],
   "source": [
    "# up-sample training data with SMOTE\n",
    "sm = SMOTE(random_state=42, ratio = 1.0)\n",
    "\n",
    "# up-sample control group\n",
    "X_train_control_upsamp, Y_train_control_upsamp = sm.fit_sample(X_cont_train, y_cont_train)\n",
    "X_train_control_upsamp = pd.DataFrame(X_train_control_upsamp, columns=features)\n",
    "Y_train_control_upsamp = pd.Series(Y_train_control_upsamp)\n",
    "\n",
    "print(Y_train_control_upsamp.value_counts())\n",
    "\n",
    "# up-sample treatment group\n",
    "X_train_exper_upsamp, Y_train_exper_upsamp = sm.fit_sample(X_treat_train, y_treat_train)    \n",
    "X_train_exper_upsamp = pd.DataFrame(X_train_exper_upsamp, columns=features)\n",
    "Y_train_exper_upsamp = pd.Series(Y_train_exper_upsamp)\n",
    "\n",
    "print(Y_train_exper_upsamp.value_counts())"
   ]
  },
  {
   "cell_type": "code",
   "execution_count": null,
   "metadata": {},
   "outputs": [],
   "source": [
    "## Training the treatment model without upsample\n",
    "model_control = LogisticRegression()\n",
    "model_control.fit(X_cont_train, y_cont_train)\n",
    "\n",
    "## Training the treatment model without upsample\n",
    "model_treatment = LogisticRegression()\n",
    "model_treatment.fit(X_treat_train, y_treat_train)"
   ]
  },
  {
   "cell_type": "code",
   "execution_count": null,
   "metadata": {},
   "outputs": [],
   "source": [
    "## Making predictions on the test datasets for treatment and control without upsampling\n",
    "control_test_pred = model_control.predict_proba(X_cont_test)\n",
    "treatment_test_pred = model_control.predict_proba(X_treat_test)"
   ]
  },
  {
   "cell_type": "code",
   "execution_count": null,
   "metadata": {},
   "outputs": [],
   "source": [
    "## AUC calculations\n",
    "from sklearn.metrics import roc_auc_score\n",
    "auc_treatment = roc_auc_score(y_treat_test, treatment_test_pred[:,1])\n",
    "print(\"Treatment AUC score:\", auc_treatment)\n",
    "\n",
    "auc_control = roc_auc_score(y_cont_test, control_test_pred[:,1])\n",
    "print(\"Control AUC score:\", auc_control)"
   ]
  },
  {
   "cell_type": "code",
   "execution_count": null,
   "metadata": {},
   "outputs": [],
   "source": [
    "import matplotlib.pyplot as plt\n",
    "import scikitplot as skplt\n",
    "\n",
    "skplt.metrics.plot_cumulative_gain(y_treat_test, treatment_test_pred)\n",
    "skplt.metrics.plot_cumulative_gain(y_cont_test, control_test_pred)\n",
    "plt.show()"
   ]
  },
  {
   "cell_type": "code",
   "execution_count": null,
   "metadata": {},
   "outputs": [],
   "source": [
    "import matplotlib.pyplot as plt\n",
    "import scikitplot as skplt\n",
    "\n",
    "skplt.metrics.plot_lift_curve(y_treat_test, treatment_test_pred)\n",
    "skplt.metrics.plot_lift_curve(y_cont_test, control_test_pred)\n",
    "plt.show()"
   ]
  },
  {
   "cell_type": "code",
   "execution_count": null,
   "metadata": {},
   "outputs": [],
   "source": [
    "## Training the control model\n",
    "model_control = LogisticRegression()\n",
    "model_control.fit(X_train_control_upsamp, Y_train_control_upsamp)\n",
    "\n",
    "## Training the treatment model\n",
    "model_treatment = LogisticRegression()\n",
    "model_treatment.fit(X_train_exper_upsamp, Y_train_exper_upsamp)"
   ]
  },
  {
   "cell_type": "code",
   "execution_count": null,
   "metadata": {},
   "outputs": [],
   "source": [
    "# up-sample training data with SMOTE\n",
    "sm = SMOTE(random_state=42, ratio = 1.0)\n",
    "\n",
    "# up-sample control group\n",
    "X_train_control_upsamp, Y_train_control_upsamp = sm.fit_sample(X_train_control, Y_train_control)\n",
    "X_train_control_upsamp = pd.DataFrame(X_train_control_upsamp, columns=features)\n",
    "Y_train_control_upsamp = pd.Series(Y_train_control_upsamp)\n",
    "\n",
    "print(Y_train_control_upsamp.value_counts())\n",
    "\n",
    "# up-sample treatment group\n",
    "X_train_exper_upsamp, Y_train_exper_upsamp = sm.fit_sample(X_train_exper, Y_train_exper)    \n",
    "X_train_exper_upsamp = pd.DataFrame(X_train_exper_upsamp, columns=features)\n",
    "Y_train_exper_upsamp = pd.Series(Y_train_exper_upsamp)\n",
    "\n",
    "print(Y_train_exper_upsamp.value_counts())"
   ]
  },
  {
   "cell_type": "code",
   "execution_count": null,
   "metadata": {},
   "outputs": [],
   "source": [
    "## Training the control model\n",
    "model_control = LogisticRegression()\n",
    "model_control.fit(X_train_control_upsamp, Y_train_control_upsamp)\n",
    "\n",
    "## Training the treatment model\n",
    "model_treatment = LogisticRegression()\n",
    "model_treatment.fit(X_train_exper_upsamp, Y_train_exper_upsamp)"
   ]
  },
  {
   "cell_type": "code",
   "execution_count": null,
   "metadata": {},
   "outputs": [],
   "source": [
    "## Predictions on validation data set for control and treatment groups\n",
    "control_valid_pred = model_control.predict(X_valid_control)\n",
    "exper_valid_pred = model_control.predict(X_valid_exper)"
   ]
  },
  {
   "cell_type": "code",
   "execution_count": null,
   "metadata": {},
   "outputs": [],
   "source": [
    "pred_probs_control = model_control.predict_proba(X_valid_control)\n",
    "pred_probs_exper = model_treatment.predict_proba(X_valid_control)"
   ]
  },
  {
   "cell_type": "code",
   "execution_count": null,
   "metadata": {},
   "outputs": [],
   "source": [
    "## Lift Calculation\n",
    "lift = pred_probs_exper[:,1] - pred_probs_control[:,1]\n",
    "treatment_probs = pred_probs_exper[:,1]\n",
    "control_probs = pred_probs_control[:,1]\n",
    "\n",
    "prob_df = pd.DataFrame({'treatment':list(treatment_probs), 'control':list(control_probs), 'uplift':list(lift)})\n",
    "prob_df.head(10)"
   ]
  },
  {
   "cell_type": "code",
   "execution_count": null,
   "metadata": {},
   "outputs": [],
   "source": [
    "print(lift)\n",
    "promotion = []\n",
    "cutoff_probs = []\n",
    "cutoff_lift = np.percentile(lift, 95)\n",
    "print(cutoff_lift)\n",
    "\n",
    "for prob in lift:\n",
    "        if prob > 0:\n",
    "            if prob > cutoff_lift:\n",
    "                promotion.append('Yes')\n",
    "                cutoff_probs.append(prob)\n",
    "        else:\n",
    "            promotion.append('No')\n",
    "\n",
    "promotion = np.array(promotion)\n",
    "print(len(promotion == 'Yes'))\n",
    "print(len(promotion == 'No'))\n",
    "print(cutoff_probs)"
   ]
  },
  {
   "cell_type": "code",
   "execution_count": null,
   "metadata": {},
   "outputs": [],
   "source": [
    "plt.hist(lift)\n",
    "plt.show()"
   ]
  },
  {
   "cell_type": "code",
   "execution_count": null,
   "metadata": {},
   "outputs": [],
   "source": [
    "print(max(lift))\n",
    "print(min(lift))"
   ]
  },
  {
   "cell_type": "code",
   "execution_count": null,
   "metadata": {},
   "outputs": [],
   "source": [
    "## Lift Calculation\n",
    "lift = pred_probs_exper[:,1] - pred_probs_control[:,1]\n",
    "treatment_probs = pred_probs_exper[:,1]\n",
    "control_probs = pred_probs_control[:,1]\n",
    "\n",
    "prob_df = pd.DataFrame({'treatment':list(treatment_probs), 'control':list(control_probs), 'uplift':list(lift)})\n",
    "prob_df.head(10)\n",
    "prob_df['Decile_rank'] = pd.qcut(prob_df['uplift'],10,labels=False)\n",
    "prob_df['cumulative_uplift'] = prob_df['uplift'].cumsum()\n",
    "print(prob_df.head(10))"
   ]
  },
  {
   "cell_type": "code",
   "execution_count": null,
   "metadata": {},
   "outputs": [],
   "source": [
    "plt.bar(prob_df['Decile_rank'],prob_df['uplift'])\n",
    "plt.ylabel(\"uplift percentage\")\n",
    "plt.xlabel(\"deciles\")\n",
    "plt.title(\"Uplift percentage by deciles\")\n",
    "plt.show()"
   ]
  },
  {
   "cell_type": "code",
   "execution_count": null,
   "metadata": {},
   "outputs": [],
   "source": [
    "import matplotlib.pyplot as plt\n",
    "import scikitplot as skplt\n",
    "\n",
    "skplt.metrics.plot_lift_curve(Y_valid_control, pred_probs_control)\n",
    "plt.show()"
   ]
  },
  {
   "cell_type": "code",
   "execution_count": null,
   "metadata": {},
   "outputs": [],
   "source": [
    "\n",
    "import matplotlib.pyplot as plt\n",
    "import scikitplot as skplt\n",
    "\n",
    "skplt.metrics.plot_cumulative_gain(Y_valid_control, pred_probs_control)\n",
    "plt.show()"
   ]
  },
  {
   "cell_type": "code",
   "execution_count": 51,
   "metadata": {},
   "outputs": [
    {
     "name": "stdout",
     "output_type": "stream",
     "text": [
      "12772\n",
      "12795\n",
      "0    11444\n",
      "1     1328\n",
      "Name: visit, dtype: int64\n",
      "0    10468\n",
      "1     2327\n",
      "Name: visit, dtype: int64\n",
      "0    12772\n",
      "Name: treatment, dtype: int64\n",
      "1    12795\n",
      "Name: treatment, dtype: int64\n",
      "10236\n",
      "2559\n",
      "10236\n",
      "2559\n",
      "0    8374\n",
      "1    1862\n",
      "Name: visit, dtype: int64\n",
      "0    2094\n",
      "1     465\n",
      "Name: visit, dtype: int64\n",
      "10217\n",
      "2555\n",
      "10217\n",
      "2555\n",
      "0    9155\n",
      "1    1062\n",
      "Name: visit, dtype: int64\n",
      "0    2289\n",
      "1     266\n",
      "Name: visit, dtype: int64\n"
     ]
    }
   ],
   "source": [
    "train_control = train[train['segment']=='No E-Mail']\n",
    "Y_train_control = train_control['visit']\n",
    "X_train_control = train_control[features]\n",
    "\n",
    "train_exper = train[train['segment']=='Mens E-Mail']\n",
    "Y_train_exper = train_exper['visit']\n",
    "X_train_exper = train_exper[features]\n",
    "\n",
    "print(len(train_control))\n",
    "print(len(train_exper))\n",
    "\n",
    "print(train_control[\"visit\"].value_counts())\n",
    "print(train_exper[\"visit\"].value_counts())\n",
    "\n",
    "\n",
    "print(train_control[\"treatment\"].value_counts())\n",
    "print(train_exper[\"treatment\"].value_counts())\n",
    "\n",
    "from sklearn.cross_validation import train_test_split\n",
    "X_treat_train, X_treat_test, y_treat_train, y_treat_test = train_test_split(X_train_exper, Y_train_exper, test_size = 0.2, stratify = Y_train_exper)\n",
    "print(len(X_treat_train))\n",
    "print(len(X_treat_test))\n",
    "print(len(y_treat_train))\n",
    "print(len(y_treat_test))\n",
    "print((y_treat_train.value_counts()))\n",
    "print((y_treat_test.value_counts()))\n",
    "\n",
    "\n",
    "X_cont_train, X_cont_test, y_cont_train, y_cont_test = train_test_split(X_train_control, Y_train_control, test_size = 0.2, stratify = Y_train_control)\n",
    "print(len(X_cont_train))\n",
    "print(len(X_cont_test))\n",
    "print(len(y_cont_train))\n",
    "print(len(y_cont_test))\n",
    "print((y_cont_train.value_counts()))\n",
    "print((y_cont_test.value_counts()))"
   ]
  },
  {
   "cell_type": "code",
   "execution_count": 56,
   "metadata": {},
   "outputs": [
    {
     "name": "stdout",
     "output_type": "stream",
     "text": [
      "12852\n",
      "12763\n",
      "0    11482\n",
      "1     1370\n",
      "Name: visit, dtype: int64\n",
      "0    10848\n",
      "1     1915\n",
      "Name: visit, dtype: int64\n",
      "0    12852\n",
      "Name: treatment, dtype: int64\n",
      "1    12763\n",
      "Name: treatment, dtype: int64\n",
      "6381\n",
      "6382\n",
      "6381\n",
      "6382\n",
      "0    5424\n",
      "1     957\n",
      "Name: visit, dtype: int64\n",
      "0    5424\n",
      "1     958\n",
      "Name: visit, dtype: int64\n",
      "6426\n",
      "6426\n",
      "6426\n",
      "6426\n",
      "0    5741\n",
      "1     685\n",
      "Name: visit, dtype: int64\n",
      "0    5741\n",
      "1     685\n",
      "Name: visit, dtype: int64\n"
     ]
    }
   ],
   "source": [
    "train_control = train[train['segment']=='No E-Mail']\n",
    "Y_train_control = train_control['visit']\n",
    "X_train_control = train_control[features]\n",
    "\n",
    "train_exper = train[train['segment']=='Womens E-Mail']\n",
    "Y_train_exper = train_exper['visit']\n",
    "X_train_exper = train_exper[features]\n",
    "\n",
    "print(len(train_control))\n",
    "print(len(train_exper))\n",
    "\n",
    "print(train_control[\"visit\"].value_counts())\n",
    "print(train_exper[\"visit\"].value_counts())\n",
    "\n",
    "\n",
    "print(train_control[\"treatment\"].value_counts())\n",
    "print(train_exper[\"treatment\"].value_counts())\n",
    "\n",
    "from sklearn.cross_validation import train_test_split\n",
    "X_treat_train, X_treat_test, y_treat_train, y_treat_test = train_test_split(X_train_exper, Y_train_exper, test_size = 0.5, stratify = Y_train_exper)\n",
    "print(len(X_treat_train))\n",
    "print(len(X_treat_test))\n",
    "print(len(y_treat_train))\n",
    "print(len(y_treat_test))\n",
    "print((y_treat_train.value_counts()))\n",
    "print((y_treat_test.value_counts()))\n",
    "\n",
    "\n",
    "X_cont_train, X_cont_test, y_cont_train, y_cont_test = train_test_split(X_train_control, Y_train_control, test_size = 0.5, stratify = Y_train_control)\n",
    "print(len(X_cont_train))\n",
    "print(len(X_cont_test))\n",
    "print(len(y_cont_train))\n",
    "print(len(y_cont_test))\n",
    "print((y_cont_train.value_counts()))\n",
    "print((y_cont_test.value_counts()))"
   ]
  },
  {
   "cell_type": "code",
   "execution_count": null,
   "metadata": {},
   "outputs": [],
   "source": [
    "## Training the treatment model without upsample\n",
    "model_control = LogisticRegression()\n",
    "model_control.fit(X_cont_train, y_cont_train)\n",
    "\n",
    "## Training the treatment model without upsample\n",
    "model_treatment = LogisticRegression()\n",
    "model_treatment.fit(X_treat_train, y_treat_train)"
   ]
  },
  {
   "cell_type": "code",
   "execution_count": 57,
   "metadata": {},
   "outputs": [
    {
     "data": {
      "text/plain": [
       "XGBClassifier(base_score=0.5, booster='gbtree', colsample_bylevel=1,\n",
       "       colsample_bytree=1, gamma=0.1, learning_rate=0.1, max_delta_step=0,\n",
       "       max_depth=7, min_child_weight=5, missing=None, n_estimators=100,\n",
       "       n_jobs=1, nthread=None, objective='binary:logistic', random_state=0,\n",
       "       reg_alpha=0, reg_lambda=1, scale_pos_weight=1, seed=42, silent=True,\n",
       "       subsample=1)"
      ]
     },
     "execution_count": 57,
     "metadata": {},
     "output_type": "execute_result"
    }
   ],
   "source": [
    "## XGBoost Model\n",
    "\n",
    "## eval_set = [(X_train_upsamp, Y_train_upsamp), (X_valid, Y_valid)]\n",
    "model_treat = xgb.XGBClassifier(learning_rate = 0.1,\\\n",
    "                                  max_depth = 7,\\\n",
    "                                  min_child_weight = 5,\\\n",
    "                                  objective = 'binary:logistic',\\\n",
    "                                  seed = 42,\\\n",
    "                                  gamma = 0.1,\\\n",
    "                                  silent = True)\n",
    "model_treat.fit(X_treat_train, y_treat_train)\n",
    "\n",
    "model_cont = xgb.XGBClassifier(learning_rate = 0.1,\\\n",
    "                                  max_depth = 7,\\\n",
    "                                  min_child_weight = 5,\\\n",
    "                                  objective = 'binary:logistic',\\\n",
    "                                  seed = 42,\\\n",
    "                                  gamma = 0.1,\\\n",
    "                                  silent = True)\n",
    "model_cont.fit(X_cont_train, y_cont_train)\n"
   ]
  },
  {
   "cell_type": "code",
   "execution_count": 58,
   "metadata": {},
   "outputs": [],
   "source": [
    "## Making predictions on the test datasets for treatment and control without upsampling\n",
    "control_test_pred = model_cont.predict_proba(X_cont_test)\n",
    "treatment_test_pred = model_treat.predict_proba(X_treat_test)"
   ]
  },
  {
   "cell_type": "code",
   "execution_count": 59,
   "metadata": {},
   "outputs": [
    {
     "name": "stdout",
     "output_type": "stream",
     "text": [
      "Treatment AUC score: 0.5843039479680505\n",
      "Control AUC score: 0.6160474598769003\n"
     ]
    }
   ],
   "source": [
    "## AUC calculations\n",
    "from sklearn.metrics import roc_auc_score\n",
    "auc_treatment = roc_auc_score(y_treat_test, treatment_test_pred[:,1])\n",
    "print(\"Treatment AUC score:\", auc_treatment)\n",
    "\n",
    "auc_control = roc_auc_score(y_cont_test, control_test_pred[:,1])\n",
    "print(\"Control AUC score:\", auc_control)"
   ]
  },
  {
   "cell_type": "code",
   "execution_count": 60,
   "metadata": {},
   "outputs": [
    {
     "name": "stderr",
     "output_type": "stream",
     "text": [
      "C:\\Users\\kalya\\AppData\\Local\\Continuum\\anaconda3\\lib\\site-packages\\matplotlib\\cbook\\deprecation.py:107: MatplotlibDeprecationWarning: Passing one of 'on', 'true', 'off', 'false' as a boolean is deprecated; use an actual boolean (True/False) instead.\n",
      "  warnings.warn(message, mplDeprecation, stacklevel=1)\n",
      "C:\\Users\\kalya\\AppData\\Local\\Continuum\\anaconda3\\lib\\site-packages\\matplotlib\\cbook\\deprecation.py:107: MatplotlibDeprecationWarning: Passing one of 'on', 'true', 'off', 'false' as a boolean is deprecated; use an actual boolean (True/False) instead.\n",
      "  warnings.warn(message, mplDeprecation, stacklevel=1)\n"
     ]
    },
    {
     "data": {
      "image/png": "[encoded data removed]",
      "text/plain": [
       "<Figure size 432x288 with 1 Axes>"
      ]
     },
     "metadata": {},
     "output_type": "display_data"
    },
    {
     "data": {
      "image/png": "[encoded data removed]",
      "text/plain": [
       "<Figure size 432x288 with 1 Axes>"
      ]
     },
     "metadata": {},
     "output_type": "display_data"
    }
   ],
   "source": [
    "import matplotlib.pyplot as plt\n",
    "import scikitplot as skplt\n",
    "\n",
    "skplt.metrics.plot_cumulative_gain(y_treat_test, treatment_test_pred)\n",
    "skplt.metrics.plot_cumulative_gain(y_cont_test, control_test_pred)\n",
    "plt.show()"
   ]
  },
  {
   "cell_type": "code",
   "execution_count": 61,
   "metadata": {},
   "outputs": [
    {
     "name": "stderr",
     "output_type": "stream",
     "text": [
      "C:\\Users\\kalya\\AppData\\Local\\Continuum\\anaconda3\\lib\\site-packages\\matplotlib\\cbook\\deprecation.py:107: MatplotlibDeprecationWarning: Passing one of 'on', 'true', 'off', 'false' as a boolean is deprecated; use an actual boolean (True/False) instead.\n",
      "  warnings.warn(message, mplDeprecation, stacklevel=1)\n",
      "C:\\Users\\kalya\\AppData\\Local\\Continuum\\anaconda3\\lib\\site-packages\\matplotlib\\cbook\\deprecation.py:107: MatplotlibDeprecationWarning: Passing one of 'on', 'true', 'off', 'false' as a boolean is deprecated; use an actual boolean (True/False) instead.\n",
      "  warnings.warn(message, mplDeprecation, stacklevel=1)\n"
     ]
    },
    {
     "data": {
      "image/png": "[encoded data removed]",
      "text/plain": [
       "<Figure size 432x288 with 1 Axes>"
      ]
     },
     "metadata": {},
     "output_type": "display_data"
    },
    {
     "data": {
      "image/png": "[encoded data removed]",
      "text/plain": [
       "<Figure size 432x288 with 1 Axes>"
      ]
     },
     "metadata": {},
     "output_type": "display_data"
    }
   ],
   "source": [
    "import matplotlib.pyplot as plt\n",
    "import scikitplot as skplt\n",
    "\n",
    "skplt.metrics.plot_lift_curve(y_treat_test, treatment_test_pred)\n",
    "skplt.metrics.plot_lift_curve(y_cont_test, control_test_pred)\n",
    "plt.show()"
   ]
  },
  {
   "cell_type": "code",
   "execution_count": 49,
   "metadata": {},
   "outputs": [
    {
     "name": "stdout",
     "output_type": "stream",
     "text": [
      "   recency history_segment  history  mens  womens   zip_code  newbie channel  \\\n",
      "0       10  2) $100 - $200   142.44     1       0  Surburban       0   Phone   \n",
      "1        6  3) $200 - $350   329.08     1       1      Rural       1     Web   \n",
      "2        7  2) $100 - $200   180.65     0       1  Surburban       1     Web   \n",
      "3        9  5) $500 - $750   675.83     1       0      Rural       1     Web   \n",
      "4        2    1) $0 - $100    45.34     1       0      Urban       0     Web   \n",
      "5        6  2) $100 - $200   134.83     0       1  Surburban       0   Phone   \n",
      "6        9  3) $200 - $350   280.20     1       0  Surburban       1   Phone   \n",
      "7        9    1) $0 - $100    46.42     0       1      Urban       0   Phone   \n",
      "8        9  5) $500 - $750   675.07     1       1      Rural       1   Phone   \n",
      "9       10    1) $0 - $100    32.84     0       1      Urban       1     Web   \n",
      "\n",
      "         segment  visit  conversion  spend  \n",
      "0  Womens E-Mail      0           0    0.0  \n",
      "1      No E-Mail      0           0    0.0  \n",
      "2  Womens E-Mail      0           0    0.0  \n",
      "3    Mens E-Mail      0           0    0.0  \n",
      "4  Womens E-Mail      0           0    0.0  \n",
      "5  Womens E-Mail      1           0    0.0  \n",
      "6  Womens E-Mail      0           0    0.0  \n",
      "7  Womens E-Mail      0           0    0.0  \n",
      "8    Mens E-Mail      0           0    0.0  \n",
      "9  Womens E-Mail      0           0    0.0  \n"
     ]
    }
   ],
   "source": [
    "data = pd.read_csv(\"Email_marketing_campaign.csv\")\n",
    "print(data.head(10))"
   ]
  },
  {
   "cell_type": "code",
   "execution_count": 50,
   "metadata": {},
   "outputs": [
    {
     "name": "stdout",
     "output_type": "stream",
     "text": [
      "0    18149\n",
      "1     3238\n",
      "Name: visit, dtype: int64\n",
      "0    14545\n",
      "1     2564\n",
      "Name: visit, dtype: int64\n",
      "0    3604\n",
      "1     674\n",
      "Name: visit, dtype: int64\n",
      "Index(['recency', 'history', 'mens', 'womens', 'newbie'], dtype='object')\n",
      "Index(['recency', 'history', 'mens', 'womens', 'newbie'], dtype='object')\n"
     ]
    }
   ],
   "source": [
    "womens_data = data[data[\"segment\"] == \"Womens E-Mail\"].copy()\n",
    "print(womens_data[\"visit\"].value_counts())\n",
    "\n",
    "features = ['recency','history','mens','womens','newbie']\n",
    "\n",
    "# split data into train and valid\n",
    "train, test = sk.model_selection.train_test_split(womens_data, test_size=0.2,random_state=42)\n",
    "\n",
    "\n",
    "\n",
    "# Generate validation data\n",
    "# one for control group, another for treatment group\n",
    "\n",
    "Y_test = test['visit']\n",
    "X_test = test[features]\n",
    "\n",
    "Y_train = train['visit']\n",
    "X_train = train[features]\n",
    "\n",
    "print(Y_train.value_counts())\n",
    "print(Y_test.value_counts())\n",
    "\n",
    "print(X_train.columns)\n",
    "print(X_test.columns)"
   ]
  },
  {
   "cell_type": "code",
   "execution_count": 51,
   "metadata": {},
   "outputs": [
    {
     "name": "stderr",
     "output_type": "stream",
     "text": [
      "C:\\Users\\kalya\\AppData\\Local\\Continuum\\anaconda3\\lib\\site-packages\\sklearn\\utils\\deprecation.py:77: DeprecationWarning: Function _ratio_float is deprecated; Use a float for 'ratio' is deprecated from version 0.2. The support will be removed in 0.4. Use a dict, str, or a callable instead.\n",
      "  warnings.warn(msg, category=DeprecationWarning)\n"
     ]
    }
   ],
   "source": [
    "sm = SMOTE(random_state=42, ratio = 1.0)\n",
    "\n",
    "# up-sample control group\n",
    "X_train_upsamp, Y_train_upsamp = sm.fit_sample(X_train, Y_train)\n",
    "\n",
    "X_train_upsamp = pd.DataFrame(X_train_upsamp, columns=features)\n",
    "Y_train_upsamp = pd.Series(Y_train_upsamp)"
   ]
  },
  {
   "cell_type": "code",
   "execution_count": 102,
   "metadata": {},
   "outputs": [
    {
     "data": {
      "text/plain": [
       "XGBClassifier(base_score=0.5, booster='gbtree', colsample_bylevel=1,\n",
       "       colsample_bytree=1, gamma=0.1, learning_rate=0.1, max_delta_step=0,\n",
       "       max_depth=7, min_child_weight=5, missing=None, n_estimators=100,\n",
       "       n_jobs=1, nthread=None, objective='binary:logistic', random_state=0,\n",
       "       reg_alpha=0, reg_lambda=1, scale_pos_weight=1, seed=42, silent=True,\n",
       "       subsample=1)"
      ]
     },
     "execution_count": 102,
     "metadata": {},
     "output_type": "execute_result"
    }
   ],
   "source": [
    "model_train = xgb.XGBClassifier(learning_rate = 0.1,\\\n",
    "                                  max_depth = 7,\\\n",
    "                                  min_child_weight = 5,\\\n",
    "                                  objective = 'binary:logistic',\\\n",
    "                                  seed = 42,\\\n",
    "                                  gamma = 0.1,\\\n",
    "                                  silent = True)\n",
    "model_train.fit(X_train_upsamp, Y_train_upsamp)"
   ]
  },
  {
   "cell_type": "code",
   "execution_count": 52,
   "metadata": {},
   "outputs": [
    {
     "data": {
      "text/plain": [
       "LogisticRegression(C=1.0, class_weight=None, dual=False, fit_intercept=True,\n",
       "          intercept_scaling=1, max_iter=100, multi_class='ovr', n_jobs=1,\n",
       "          penalty='l2', random_state=None, solver='liblinear', tol=0.0001,\n",
       "          verbose=0, warm_start=False)"
      ]
     },
     "execution_count": 52,
     "metadata": {},
     "output_type": "execute_result"
    }
   ],
   "source": [
    "from sklearn.linear_model import LogisticRegression\n",
    "model_train_log = LogisticRegression()\n",
    "model_train_log.fit(X_train_upsamp, Y_train_upsamp)"
   ]
  },
  {
   "cell_type": "code",
   "execution_count": 53,
   "metadata": {},
   "outputs": [
    {
     "name": "stdout",
     "output_type": "stream",
     "text": [
      "Index(['recency', 'history', 'mens', 'womens', 'newbie'], dtype='object')\n"
     ]
    }
   ],
   "source": [
    "print(X_train_upsamp.columns)"
   ]
  },
  {
   "cell_type": "code",
   "execution_count": 54,
   "metadata": {},
   "outputs": [],
   "source": [
    "## Making predictions on the test datasets for training and testing without upsampling\n",
    "train_pred = model_train_log.predict_proba(X_train_upsamp)\n",
    "test_pred = model_train_log.predict_proba(X_test)"
   ]
  },
  {
   "cell_type": "code",
   "execution_count": 64,
   "metadata": {},
   "outputs": [
    {
     "name": "stdout",
     "output_type": "stream",
     "text": [
      "[[-5.21160762e-02  4.06947229e-04  5.38865637e-01  1.11664235e+00\n",
      "  -5.88331390e-01]]\n",
      "recency -0.052116076167192424\n",
      "history 0.0004069472292488056\n",
      "mens 0.5388656367310808\n",
      "womens 1.1166423549197606\n",
      "newbie -0.5883313897915453\n"
     ]
    }
   ],
   "source": [
    "coef = model_train_log.coef_\n",
    "print(coef)\n",
    "\n",
    "for p,c in zip(features, coef[0]):\n",
    "    print(p,c)"
   ]
  },
  {
   "cell_type": "code",
   "execution_count": 55,
   "metadata": {},
   "outputs": [
    {
     "name": "stdout",
     "output_type": "stream",
     "text": [
      "Training AUC score: 0.6398195309278905\n",
      "Testing AUC score: 0.6267644424098513\n"
     ]
    }
   ],
   "source": [
    "## AUC calculations\n",
    "from sklearn.metrics import roc_auc_score\n",
    "auc_train = roc_auc_score(Y_train_upsamp, train_pred[:,1])\n",
    "print(\"Training AUC score:\", auc_train)\n",
    "\n",
    "auc_test = roc_auc_score(Y_test, test_pred[:,1])\n",
    "print(\"Testing AUC score:\", auc_test)"
   ]
  },
  {
   "cell_type": "code",
   "execution_count": 60,
   "metadata": {},
   "outputs": [
    {
     "name": "stderr",
     "output_type": "stream",
     "text": [
      "C:\\Users\\kalya\\AppData\\Local\\Continuum\\anaconda3\\lib\\site-packages\\matplotlib\\cbook\\deprecation.py:107: MatplotlibDeprecationWarning: Passing one of 'on', 'true', 'off', 'false' as a boolean is deprecated; use an actual boolean (True/False) instead.\n",
      "  warnings.warn(message, mplDeprecation, stacklevel=1)\n",
      "C:\\Users\\kalya\\AppData\\Local\\Continuum\\anaconda3\\lib\\site-packages\\matplotlib\\cbook\\deprecation.py:107: MatplotlibDeprecationWarning: Passing one of 'on', 'true', 'off', 'false' as a boolean is deprecated; use an actual boolean (True/False) instead.\n",
      "  warnings.warn(message, mplDeprecation, stacklevel=1)\n"
     ]
    },
    {
     "data": {
      "image/png": "[encoded data removed]",
      "text/plain": [
       "<Figure size 432x288 with 1 Axes>"
      ]
     },
     "metadata": {},
     "output_type": "display_data"
    },
    {
     "data": {
      "image/png": "[encoded data removed]",
      "text/plain": [
       "<Figure size 432x288 with 1 Axes>"
      ]
     },
     "metadata": {},
     "output_type": "display_data"
    }
   ],
   "source": [
    "import matplotlib.pyplot as plt\n",
    "import scikitplot as skplt\n",
    "\n",
    "skplt.metrics.plot_cumulative_gain(Y_train_upsamp, train_pred)\n",
    "skplt.metrics.plot_cumulative_gain(Y_test, test_pred)\n",
    "plt.show()"
   ]
  },
  {
   "cell_type": "code",
   "execution_count": 57,
   "metadata": {},
   "outputs": [
    {
     "name": "stderr",
     "output_type": "stream",
     "text": [
      "C:\\Users\\kalya\\AppData\\Local\\Continuum\\anaconda3\\lib\\site-packages\\matplotlib\\cbook\\deprecation.py:107: MatplotlibDeprecationWarning: Passing one of 'on', 'true', 'off', 'false' as a boolean is deprecated; use an actual boolean (True/False) instead.\n",
      "  warnings.warn(message, mplDeprecation, stacklevel=1)\n",
      "C:\\Users\\kalya\\AppData\\Local\\Continuum\\anaconda3\\lib\\site-packages\\matplotlib\\cbook\\deprecation.py:107: MatplotlibDeprecationWarning: Passing one of 'on', 'true', 'off', 'false' as a boolean is deprecated; use an actual boolean (True/False) instead.\n",
      "  warnings.warn(message, mplDeprecation, stacklevel=1)\n"
     ]
    },
    {
     "data": {
      "image/png": "[encoded data removed]",
      "text/plain": [
       "<Figure size 432x288 with 1 Axes>"
      ]
     },
     "metadata": {},
     "output_type": "display_data"
    },
    {
     "data": {
      "image/png": "[encoded data removed]",
      "text/plain": [
       "<Figure size 432x288 with 1 Axes>"
      ]
     },
     "metadata": {},
     "output_type": "display_data"
    }
   ],
   "source": [
    "import matplotlib.pyplot as plt\n",
    "import scikitplot as skplt\n",
    "\n",
    "skplt.metrics.plot_lift_curve(Y_train_upsamp, train_pred)\n",
    "skplt.metrics.plot_lift_curve(Y_test, test_pred)\n",
    "plt.show()"
   ]
  },
  {
   "cell_type": "markdown",
   "metadata": {},
   "source": [
    "## Uplift Modeling for Spend: Womens Promotion"
   ]
  },
  {
   "cell_type": "code",
   "execution_count": 110,
   "metadata": {},
   "outputs": [
    {
     "name": "stdout",
     "output_type": "stream",
     "text": [
      "0    18149\n",
      "1     3238\n",
      "Name: visit, dtype: int64\n",
      "0.00      16953\n",
      "29.99        35\n",
      "499.00        4\n",
      "168.98        1\n",
      "52.67         1\n",
      "149.91        1\n",
      "189.30        1\n",
      "33.45         1\n",
      "195.99        1\n",
      "109.64        1\n",
      "31.03         1\n",
      "47.70         1\n",
      "42.66         1\n",
      "267.17        1\n",
      "156.58        1\n",
      "43.70         1\n",
      "69.25         1\n",
      "110.13        1\n",
      "273.80        1\n",
      "173.02        1\n",
      "64.93         1\n",
      "33.02         1\n",
      "55.02         1\n",
      "189.79        1\n",
      "50.68         1\n",
      "242.28        1\n",
      "144.30        1\n",
      "104.22        1\n",
      "58.39         1\n",
      "264.66        1\n",
      "          ...  \n",
      "88.00         1\n",
      "100.45        1\n",
      "138.92        1\n",
      "37.27         1\n",
      "126.96        1\n",
      "275.73        1\n",
      "59.32         1\n",
      "113.44        1\n",
      "88.56         1\n",
      "37.42         1\n",
      "123.68        1\n",
      "60.78         1\n",
      "146.33        1\n",
      "231.94        1\n",
      "103.93        1\n",
      "137.87        1\n",
      "159.99        1\n",
      "184.30        1\n",
      "163.79        1\n",
      "94.50         1\n",
      "41.18         1\n",
      "126.66        1\n",
      "39.81         1\n",
      "34.05         1\n",
      "87.53         1\n",
      "309.08        1\n",
      "172.53        1\n",
      "153.91        1\n",
      "83.26         1\n",
      "89.75         1\n",
      "Name: spend, Length: 120, dtype: int64\n",
      "0.00      4245\n",
      "29.99        5\n",
      "362.20       2\n",
      "75.22        1\n",
      "298.33       1\n",
      "192.83       1\n",
      "36.20        1\n",
      "244.15       1\n",
      "134.86       1\n",
      "106.61       1\n",
      "95.41        1\n",
      "105.04       1\n",
      "182.91       1\n",
      "164.99       1\n",
      "176.11       1\n",
      "85.41        1\n",
      "37.79        1\n",
      "171.35       1\n",
      "45.83        1\n",
      "30.70        1\n",
      "49.70        1\n",
      "94.71        1\n",
      "81.01        1\n",
      "168.51       1\n",
      "276.77       1\n",
      "309.54       1\n",
      "83.91        1\n",
      "148.86       1\n",
      "245.84       1\n",
      "Name: spend, dtype: int64\n",
      "Index(['recency', 'history', 'mens', 'womens', 'newbie'], dtype='object')\n",
      "Index(['recency', 'history', 'mens', 'womens', 'newbie'], dtype='object')\n"
     ]
    }
   ],
   "source": [
    "womens_data = data[data[\"segment\"] == \"Womens E-Mail\"].copy()\n",
    "print(womens_data[\"visit\"].value_counts())\n",
    "\n",
    "features = ['recency','history','mens','womens','newbie']\n",
    "\n",
    "# split data into train and valid\n",
    "train, test = sk.model_selection.train_test_split(womens_data, test_size=0.2,random_state=42)\n",
    "\n",
    "\n",
    "\n",
    "# Generate validation data\n",
    "# one for control group, another for treatment group\n",
    "\n",
    "Y_test = test['spend']\n",
    "X_test = test[features]\n",
    "\n",
    "Y_train = train['spend']\n",
    "X_train = train[features]\n",
    "\n",
    "print(Y_train.value_counts())\n",
    "print(Y_test.value_counts())\n",
    "\n",
    "print(X_train.columns)\n",
    "print(X_test.columns)"
   ]
  },
  {
   "cell_type": "code",
   "execution_count": 113,
   "metadata": {},
   "outputs": [
    {
     "data": {
      "text/plain": [
       "XGBClassifier(base_score=0.5, booster='gbtree', colsample_bylevel=1,\n",
       "       colsample_bytree=1, gamma=0.1, learning_rate=0.1, max_delta_step=0,\n",
       "       max_depth=7, min_child_weight=5, missing=None, n_estimators=100,\n",
       "       n_jobs=1, nthread=None, objective='multi:softprob', random_state=0,\n",
       "       reg_alpha=0, reg_lambda=1, scale_pos_weight=1, seed=42, silent=True,\n",
       "       subsample=1)"
      ]
     },
     "execution_count": 113,
     "metadata": {},
     "output_type": "execute_result"
    }
   ],
   "source": [
    "model_train = xgb.XGBClassifier(learning_rate = 0.1,\\\n",
    "                                  max_depth = 7,\\\n",
    "                                  min_child_weight = 5,\\\n",
    "                                  seed = 42,\\\n",
    "                                  gamma = 0.1,\\\n",
    "                                  silent = True)\n",
    "model_train.fit(X_train, Y_train)"
   ]
  },
  {
   "cell_type": "code",
   "execution_count": 115,
   "metadata": {},
   "outputs": [],
   "source": [
    "## Making predictions on the test datasets for training and testing without upsampling\n",
    "train_pred = model_train.predict_proba(X_train)\n",
    "test_pred = model_train.predict_proba(X_test)"
   ]
  },
  {
   "cell_type": "code",
   "execution_count": 120,
   "metadata": {},
   "outputs": [
    {
     "name": "stdout",
     "output_type": "stream",
     "text": [
      "[[9.84724522e-01 1.30761135e-03 1.14867784e-04 ... 1.14867784e-04\n",
      "  1.14867784e-04 5.29174693e-04]\n",
      " [9.96333361e-01 8.15682171e-04 2.38928496e-05 ... 2.38928496e-05\n",
      "  2.38928496e-05 5.56432606e-05]\n",
      " [9.88365412e-01 3.96499439e-04 9.41821199e-05 ... 9.41821199e-05\n",
      "  9.41821199e-05 2.19523849e-04]\n",
      " ...\n",
      " [9.94565606e-01 2.59084802e-04 4.33522073e-05 ... 4.33522073e-05\n",
      "  4.33521636e-05 1.03394283e-04]\n",
      " [9.85074878e-01 4.06054407e-03 9.07033973e-05 ... 9.07033973e-05\n",
      "  9.07033973e-05 2.52929633e-04]\n",
      " [9.95478570e-01 2.35996180e-04 3.58979742e-05 ... 3.58979742e-05\n",
      "  3.58979378e-05 8.56160623e-05]]\n",
      "[[9.93842602e-01 1.96885271e-03 3.51019444e-05 ... 3.51019444e-05\n",
      "  3.51019444e-05 8.18171611e-05]\n",
      " [9.96753037e-01 1.17955125e-04 2.60937159e-05 ... 2.60937159e-05\n",
      "  2.60937159e-05 7.62473792e-05]\n",
      " [9.94770706e-01 9.59194382e-04 3.58019752e-05 ... 3.58019752e-05\n",
      "  3.58019388e-05 8.14853411e-05]\n",
      " ...\n",
      " [9.91645038e-01 1.79233332e-03 5.50240693e-05 ... 5.50240693e-05\n",
      "  5.50240147e-05 1.25234859e-04]\n",
      " [9.93058324e-01 9.59478901e-04 5.00711540e-05 ... 5.00711540e-05\n",
      "  5.00711540e-05 1.24270751e-04]\n",
      " [9.90468085e-01 4.13632998e-03 4.52191853e-05 ... 4.52191853e-05\n",
      "  4.52191853e-05 1.05309453e-04]]\n"
     ]
    }
   ],
   "source": [
    "print(train_pred)\n",
    "print(test_pred)"
   ]
  },
  {
   "cell_type": "code",
   "execution_count": null,
   "metadata": {},
   "outputs": [],
   "source": []
  }
 ],
 "metadata": {
  "kernelspec": {
   "display_name": "Python 3",
   "language": "python",
   "name": "python3"
  },
  "language_info": {
   "codemirror_mode": {
    "name": "ipython",
    "version": 3
   },
   "file_extension": ".py",
   "mimetype": "text/x-python",
   "name": "python",
   "nbconvert_exporter": "python",
   "pygments_lexer": "ipython3",
   "version": "3.6.5"
  }
 },
 "nbformat": 4,
 "nbformat_minor": 2
}
